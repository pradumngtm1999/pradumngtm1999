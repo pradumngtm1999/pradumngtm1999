{
 "cells": [
  {
   "cell_type": "markdown",
   "id": "fbdd97b0-d2cd-4b0e-be4f-27733d08431c",
   "metadata": {},
   "source": [
    "Q1. Explain why we have to use the Exception class while creating a Custom Exception.\n",
    "Note: Here Exception class refers to the base class for all the exceptions."
   ]
  },
  {
   "cell_type": "markdown",
   "id": "1352f479-c239-402f-a4ee-92f6741d1884",
   "metadata": {},
   "source": [
    "Using the built-in Exception class as the base class when creating custom exceptions in Python is a recommended practice because it ensures that your custom exceptions are part of the existing exception hierarchy and adhere to the established exception handling mechanisms in the language. There are a few key reasons why you should use the Exception class as the base class for your custom exceptions:\n",
    "\n",
    "Consistency and Compatibility: By inheriting from the Exception class, your custom exception becomes compatible with the existing exception handling mechanisms in Python. This means you can catch your custom exception using generic except blocks that catch any exception, or you can catch it specifically using its class name.\n",
    "\n",
    "Exception Hierarchy: Python has a well-organized exception hierarchy that allows you to catch different types of exceptions at different levels. The Exception class is the root of this hierarchy. If you create your custom exception by inheriting from Exception, it becomes a part of this hierarchy, making it easier to categorize and manage exceptions in your code.\n",
    "\n",
    "Behavior and Features: The Exception class provides certain behavior and features that are expected from exceptions, such as the ability to carry a message, traceback information, and being able to customize the exception's behavior by overriding methods like __str__ or __repr__.\n",
    "\n",
    "Code Clarity: By using the Exception class as the base class, you make it clear to other developers that your custom class is intended to be used as an exception. This enhances the readability and maintainability of your codebase.\n",
    "\n",
    "Here's an example to illustrate using the Exception class as the base class for a custom exception:"
   ]
  },
  {
   "cell_type": "code",
   "execution_count": 1,
   "id": "75c4d699-6276-479f-9b49-9237c039db89",
   "metadata": {},
   "outputs": [
    {
     "name": "stdout",
     "output_type": "stream",
     "text": [
      "CustomValueError: Invalid value '42'\n"
     ]
    }
   ],
   "source": [
    "class CustomValueError(Exception):\n",
    "    def __init__(self, value):\n",
    "        self.value = value\n",
    "        self.message = f\"CustomValueError: Invalid value '{value}'\"\n",
    "\n",
    "try:\n",
    "    raise CustomValueError(42)\n",
    "except CustomValueError as e:\n",
    "    print(e.message)\n"
   ]
  },
  {
   "cell_type": "markdown",
   "id": "81886a17-1055-42ec-ab89-5f7d0e4f6be5",
   "metadata": {},
   "source": [
    "Q2. Write a python program to print Python Exception Hierarchy."
   ]
  },
  {
   "cell_type": "code",
   "execution_count": 2,
   "id": "6352171f-2489-4728-9723-5893ec1415db",
   "metadata": {},
   "outputs": [
    {
     "name": "stdout",
     "output_type": "stream",
     "text": [
      "Python Exception Hierarchy:\n",
      "BaseException\n",
      "  object\n"
     ]
    }
   ],
   "source": [
    "def print_exception_hierarchy(exception_class, indent=0):\n",
    "    print(\"  \" * indent + exception_class.__name__)\n",
    "    for base_class in exception_class.__bases__:\n",
    "        print_exception_hierarchy(base_class, indent + 1)\n",
    "\n",
    "print(\"Python Exception Hierarchy:\")\n",
    "print_exception_hierarchy(BaseException)\n"
   ]
  },
  {
   "cell_type": "markdown",
   "id": "700c2af9-fe04-44db-b321-da31c7c691f0",
   "metadata": {},
   "source": [
    "Q3. What errors are defined in the ArithmeticError class? Explain any two with an example."
   ]
  },
  {
   "cell_type": "code",
   "execution_count": 3,
   "id": "add1227e-eb20-4141-9b85-e05652bdd103",
   "metadata": {},
   "outputs": [
    {
     "name": "stdout",
     "output_type": "stream",
     "text": [
      "Error: division by zero\n"
     ]
    }
   ],
   "source": [
    "try:\n",
    "    result = 10 / 0\n",
    "except ZeroDivisionError as e:\n",
    "    print(\"Error:\", e)\n"
   ]
  },
  {
   "cell_type": "code",
   "execution_count": 4,
   "id": "501e6efe-f54b-46d5-8a37-d6b8425d603b",
   "metadata": {},
   "outputs": [],
   "source": [
    "try:\n",
    "    x = 10 ** 10000\n",
    "except OverflowError as e:\n",
    "    print(\"Error:\", e)\n"
   ]
  },
  {
   "cell_type": "markdown",
   "id": "82866342-636c-4e93-807f-65361d93bca2",
   "metadata": {},
   "source": [
    "Q4. Why LookupError class is used? Explain with an example KeyError and IndexError."
   ]
  },
  {
   "cell_type": "code",
   "execution_count": 5,
   "id": "62a8bdd7-51b9-4125-a90d-d105f8525e61",
   "metadata": {},
   "outputs": [
    {
     "name": "stdout",
     "output_type": "stream",
     "text": [
      "Error: 'orange'\n"
     ]
    }
   ],
   "source": [
    "my_dict = {\"apple\": 3, \"banana\": 5}\n",
    "try:\n",
    "    count = my_dict[\"orange\"]\n",
    "except KeyError as e:\n",
    "    print(\"Error:\", e)\n",
    "\n",
    "    "
   ]
  },
  {
   "cell_type": "code",
   "execution_count": 6,
   "id": "0a704ac8-06ca-42a8-8682-e9ca460a95d2",
   "metadata": {},
   "outputs": [
    {
     "name": "stdout",
     "output_type": "stream",
     "text": [
      "Error: list index out of range\n"
     ]
    }
   ],
   "source": [
    "my_list = [1, 2, 3]\n",
    "try:\n",
    "    value = my_list[5]\n",
    "except IndexError as e:\n",
    "    print(\"Error:\", e)\n"
   ]
  },
  {
   "cell_type": "markdown",
   "id": "4b91dc45-9295-4261-a79b-42e46815234a",
   "metadata": {},
   "source": [
    "Q5. Explain ImportError. What is ModuleNotFoundError?"
   ]
  },
  {
   "cell_type": "code",
   "execution_count": 14,
   "id": "93013c67-558c-4bb4-a9e6-cd768114dbd3",
   "metadata": {},
   "outputs": [
    {
     "ename": "SyntaxError",
     "evalue": "invalid syntax. Perhaps you forgot a comma? (4135797291.py, line 1)",
     "output_type": "error",
     "traceback": [
      "\u001b[0;36m  Cell \u001b[0;32mIn[14], line 1\u001b[0;36m\u001b[0m\n\u001b[0;31m    Traceback (most recent call last):\u001b[0m\n\u001b[0m               ^\u001b[0m\n\u001b[0;31mSyntaxError\u001b[0m\u001b[0;31m:\u001b[0m invalid syntax. Perhaps you forgot a comma?\n"
     ]
    }
   ],
   "source": [
    "Traceback (most recent call last):\n",
    "    File \"<stdin>\", line 1, in <module>\n",
    "    File \"my_module.py\", line 2\n",
    "    invalid_syntax\n",
    "                ^\n",
    "SyntaxError: invalid syntax\n"
   ]
  },
  {
   "cell_type": "markdown",
   "id": "a04e6d16-5cef-4bb4-8344-fdf8735d62c5",
   "metadata": {},
   "source": [
    "Q6. List down some best practices for exception handling in python."
   ]
  },
  {
   "cell_type": "markdown",
   "id": "bf88a226-1234-4f34-a8b7-4ed4d9a7563d",
   "metadata": {},
   "source": [
    "Exception handling is an important aspect of writing robust and maintainable Python code. Here are some best practices for effective exception handling in Python:\n",
    "\n",
    "Be Specific in Exception Handling:\n",
    "\n",
    "Catch specific exceptions rather than using broad exception catchers like except:. This helps to handle different types of exceptions differently and provides clearer error messages.\n",
    "Use Try-Except Blocks Sparingly:\n",
    "\n",
    "Only catch exceptions that you can handle meaningfully. Let unhandled exceptions propagate to higher levels for better debugging and logging.\n",
    "Keep the Try Block Minimal:\n",
    "\n",
    "Place only the code that might raise an exception within the try block. This improves readability and reduces the likelihood of catching unintended exceptions.\n",
    "Separate Exception Types:\n",
    "\n",
    "If you need to catch multiple exception types, separate them with individual except blocks, making your code more organized and easier to understand.\n",
    "Handle the Most Specific Exceptions First:\n",
    "\n",
    "Place more specific exception handlers before more general ones. This prevents specific exceptions from being caught by a more generic handler.\n",
    "Use else for No Exceptions:\n",
    "\n",
    "Use the else block after a try block to specify code that should run when no exceptions occur. This can help separate error-handling logic from normal execution logic.\n",
    "Use finally for Cleanup:\n",
    "\n",
    "The finally block is used for code that must run regardless of whether an exception was raised. It's commonly used for resource cleanup.\n",
    "Use Meaningful Error Messages:\n",
    "\n",
    "Provide clear and informative error messages in exception handlers. This helps developers quickly understand what went wrong.\n",
    "Don't Silence Exceptions:\n",
    "\n",
    "Avoid empty except: blocks or using constructs like pass. Silencing exceptions can hide problems and make debugging difficult.\n",
    "Avoid Catching SystemExit or KeyboardInterrupt:\n",
    "\n",
    "These exceptions are raised when you exit the program or interrupt its execution. Let these propagate to exit the program gracefully.\n",
    "Use with Statements for Resource Management:\n",
    "\n",
    "For resources that need to be properly managed and closed, such as files and network connections, use the with statement to ensure they are closed even if an exception is raised.\n",
    "Log Exceptions:\n",
    "\n",
    "Use logging to record exceptions and their relevant details. This is essential for debugging and diagnosing issues in production environments.\n",
    "Follow PEP 8 Guidelines:\n",
    "\n",
    "Adhere to PEP 8 conventions for exception handling code style. This ensures consistency across your codebase and makes it easier for other developers to read and maintain your code."
   ]
  },
  {
   "cell_type": "code",
   "execution_count": null,
   "id": "9d826015-e012-49ae-8c70-dfe5f8213742",
   "metadata": {},
   "outputs": [],
   "source": []
  }
 ],
 "metadata": {
  "kernelspec": {
   "display_name": "Python 3 (ipykernel)",
   "language": "python",
   "name": "python3"
  },
  "language_info": {
   "codemirror_mode": {
    "name": "ipython",
    "version": 3
   },
   "file_extension": ".py",
   "mimetype": "text/x-python",
   "name": "python",
   "nbconvert_exporter": "python",
   "pygments_lexer": "ipython3",
   "version": "3.10.8"
  }
 },
 "nbformat": 4,
 "nbformat_minor": 5
}
