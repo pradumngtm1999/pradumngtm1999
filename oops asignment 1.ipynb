{
 "cells": [
  {
   "cell_type": "markdown",
   "id": "74eb86da-94b4-49ca-868c-bb11476fdaf2",
   "metadata": {},
   "source": [
    "Q1. Explain Class and Object with respect to Object-Oriented Programming. Give a suitable example."
   ]
  },
  {
   "cell_type": "code",
   "execution_count": 1,
   "id": "86fdba71-f894-4c59-8b07-a7e42df27450",
   "metadata": {},
   "outputs": [
    {
     "name": "stdout",
     "output_type": "stream",
     "text": [
      "Red\n",
      "Honda\n",
      "Engine started.\n",
      "Car accelerating.\n"
     ]
    }
   ],
   "source": [
    "class Car:\n",
    "    def __init__(self, color, brand, model, fuel_type):\n",
    "        self.color = color\n",
    "        self.brand = brand\n",
    "        self.model = model\n",
    "        self.fuel_type = fuel_type\n",
    "\n",
    "    def start_engine(self):\n",
    "        print(\"Engine started.\")\n",
    "\n",
    "    def accelerate(self):\n",
    "        print(\"Car accelerating.\")\n",
    "\n",
    "    def brake(self):\n",
    "        print(\"Car braking.\")\n",
    "\n",
    "# Creating objects (instances) of the Car class\n",
    "car1 = Car(\"Red\", \"Toyota\", \"Camry\", \"Petrol\")\n",
    "car2 = Car(\"Blue\", \"Honda\", \"Accord\", \"Diesel\")\n",
    "\n",
    "# Accessing object attributes\n",
    "print(car1.color)  # Output: Red\n",
    "print(car2.brand)  # Output: Honda\n",
    "\n",
    "# Calling object methods\n",
    "car1.start_engine()  # Output: Engine started.\n",
    "car2.accelerate()    # Output: Car accelerating."
   ]
  },
  {
   "cell_type": "markdown",
   "id": "b3cfdbea-6750-43d3-80f5-26d479b3f45b",
   "metadata": {},
   "source": [
    "Q2. Name the four pillars of OOPs."
   ]
  },
  {
   "cell_type": "markdown",
   "id": "22426b91-6367-43ca-aa69-a3e49052c2a8",
   "metadata": {},
   "source": [
    "1. Encapsulation\n",
    "2. Inheritance\n",
    "3. Polymorphism\n",
    "4. Abstraction"
   ]
  },
  {
   "cell_type": "markdown",
   "id": "72710ad7-5412-47dd-aaa3-577fe307edcc",
   "metadata": {},
   "source": [
    "Q3. Explain why the __init__() function is used. Give a suitable example."
   ]
  },
  {
   "cell_type": "code",
   "execution_count": 2,
   "id": "f477bcdd-3f04-4c87-932e-fdd7b71eecfa",
   "metadata": {},
   "outputs": [
    {
     "name": "stdout",
     "output_type": "stream",
     "text": [
      "My name is Alice and I am 25 years old.\n",
      "My name is Bob and I am 30 years old.\n"
     ]
    }
   ],
   "source": [
    "class Person:\n",
    "    def __init__(self, name, age):\n",
    "        self.name = name\n",
    "        self.age = age\n",
    "\n",
    "    def introduce(self):\n",
    "        print(f\"My name is {self.name} and I am {self.age} years old.\")\n",
    "\n",
    "# Creating objects and initializing attributes\n",
    "person1 = Person(\"Alice\", 25)\n",
    "person2 = Person(\"Bob\", 30)\n",
    "\n",
    "# Calling object methods\n",
    "person1.introduce()  # Output: My name is Alice and I am 25 years old.\n",
    "person2.introduce()  # Output: My name is Bob and I am 30 years old."
   ]
  },
  {
   "cell_type": "markdown",
   "id": "62abd2e4-ad94-48d2-9732-b12434492be1",
   "metadata": {},
   "source": [
    "Q4. Why self is used in OOPs?"
   ]
  },
  {
   "cell_type": "code",
   "execution_count": 3,
   "id": "285aa2d3-0c80-45ae-8480-8ff8107acf51",
   "metadata": {},
   "outputs": [
    {
     "name": "stdout",
     "output_type": "stream",
     "text": [
      "Width: 5, Height: 3\n",
      "15\n"
     ]
    }
   ],
   "source": [
    "class Rectangle:\n",
    "    def __init__(self, width, height):\n",
    "        self.width = width\n",
    "        self.height = height\n",
    "\n",
    "    def calculate_area(self):\n",
    "        return self.width * self.height\n",
    "\n",
    "    def display_details(self):\n",
    "        print(f\"Width: {self.width}, Height: {self.height}\")\n",
    "\n",
    "# Creating an object and invoking methods\n",
    "rect = Rectangle(5, 3)\n",
    "rect.display_details()      \n",
    "print(rect.calculate_area())  "
   ]
  },
  {
   "cell_type": "markdown",
   "id": "283af37e-96ad-44ba-8a3a-b17b9b7d85fb",
   "metadata": {},
   "source": [
    "Q5. What is inheritance? Give an example for each type of inheritance."
   ]
  },
  {
   "cell_type": "code",
   "execution_count": 7,
   "id": "ede80c9e-c30b-4d6e-998f-8e0994746c22",
   "metadata": {},
   "outputs": [
    {
     "name": "stdout",
     "output_type": "stream",
     "text": [
      "Brand: Toyota\n",
      "Model: Camry\n"
     ]
    }
   ],
   "source": [
    "class Vehicle:\n",
    "    def __init__(self, brand):\n",
    "        self.brand = brand\n",
    "\n",
    "    def display_brand(self):\n",
    "        print(\"Brand:\", self.brand)\n",
    "\n",
    "class Car(Vehicle):\n",
    "    def __init__(self, brand, model):\n",
    "        super().__init__(brand)\n",
    "        self.model = model\n",
    "\n",
    "    def display_model(self):\n",
    "        print(\"Model:\", self.model)\n",
    "car = Car(\"Toyota\", \"Camry\")\n",
    "car.display_brand()  \n",
    "car.display_model() "
   ]
  },
  {
   "cell_type": "code",
   "execution_count": null,
   "id": "113d9729-84aa-4230-8c9c-f14ce81e1b7a",
   "metadata": {},
   "outputs": [],
   "source": []
  }
 ],
 "metadata": {
  "kernelspec": {
   "display_name": "Python 3 (ipykernel)",
   "language": "python",
   "name": "python3"
  },
  "language_info": {
   "codemirror_mode": {
    "name": "ipython",
    "version": 3
   },
   "file_extension": ".py",
   "mimetype": "text/x-python",
   "name": "python",
   "nbconvert_exporter": "python",
   "pygments_lexer": "ipython3",
   "version": "3.10.8"
  }
 },
 "nbformat": 4,
 "nbformat_minor": 5
}
