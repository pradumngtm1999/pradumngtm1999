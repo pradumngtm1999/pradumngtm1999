{
 "cells": [
  {
   "cell_type": "markdown",
   "id": "c44881f8-30d3-4232-b255-a94a9d379776",
   "metadata": {},
   "source": [
    "Q1. How do you comment code in Python? What are the different types of comments?"
   ]
  },
  {
   "cell_type": "code",
   "execution_count": 1,
   "id": "bc4ef645-e560-47a4-a431-ae0cd3e61953",
   "metadata": {},
   "outputs": [
    {
     "name": "stdout",
     "output_type": "stream",
     "text": [
      "Hello, World!\n"
     ]
    }
   ],
   "source": [
    "# This is a single-line comment\n",
    "print(\"Hello, World!\")  # This line prints a greeting"
   ]
  },
  {
   "cell_type": "code",
   "execution_count": 3,
   "id": "f924e8e5-186e-4fd3-ad1a-afee31bac665",
   "metadata": {},
   "outputs": [
    {
     "data": {
      "text/plain": [
       "'\\nThis is a multi-line comment or docstring.\\nIt can be used to provide a detailed explanation\\nof your code or document a specific function.\\n'"
      ]
     },
     "execution_count": 3,
     "metadata": {},
     "output_type": "execute_result"
    }
   ],
   "source": [
    "\"\"\"\n",
    "This is a multi-line comment or docstring.\n",
    "It can be used to provide a detailed explanation\n",
    "of your code or document a specific function.\n",
    "\"\"\""
   ]
  },
  {
   "cell_type": "markdown",
   "id": "680a9051-ff23-42e5-ac74-aecbd1c2590c",
   "metadata": {},
   "source": [
    "Q2. What are variables in Python? How do you declare and assign values to variables?\n"
   ]
  },
  {
   "cell_type": "code",
   "execution_count": 4,
   "id": "71fc6bf7-99bb-4861-9909-e03cf5b42f1c",
   "metadata": {},
   "outputs": [],
   "source": [
    "# Variable declaration and assignment\n",
    "name = \"John\"\n",
    "age = 25"
   ]
  },
  {
   "cell_type": "code",
   "execution_count": 5,
   "id": "8980dffb-01ad-41c0-9577-392f01569fe0",
   "metadata": {},
   "outputs": [],
   "source": [
    "name = \"John\"  # Variable assignment\n",
    "name = \"Jane\"  # Reassignment of the variable\n"
   ]
  },
  {
   "cell_type": "markdown",
   "id": "02956ea9-a924-4ae7-bf2d-5131a0bb67da",
   "metadata": {},
   "source": [
    "Q3. How do you convert one data type to another in Python?"
   ]
  },
  {
   "cell_type": "code",
   "execution_count": 6,
   "id": "1e52742d-8805-47ab-9841-7479094cca32",
   "metadata": {},
   "outputs": [],
   "source": [
    "# Explicit type conversion\n",
    "num_str = \"10\"\n",
    "num_int = int(num_str)      # Convert string to integer\n",
    "num_float = float(num_str)  # Convert string to float"
   ]
  },
  {
   "cell_type": "code",
   "execution_count": 7,
   "id": "c2a0bc1a-79c8-4af7-8381-a3b9fc0dbc50",
   "metadata": {},
   "outputs": [],
   "source": [
    "# Implicit type conversion\n",
    "num_int = 10\n",
    "num_float = 3.14\n",
    "result = num_int + num_float  # num_int is implicitly converted to float"
   ]
  },
  {
   "cell_type": "code",
   "execution_count": 8,
   "id": "cbfd99cb-94da-42f0-b41a-cc53d1c328ad",
   "metadata": {},
   "outputs": [],
   "source": [
    "# Using specialized conversion functions\n",
    "numbers = (1, 2, 3)\n",
    "numbers_list = list(numbers)  # Convert tuple to list\n",
    "\n",
    "phrase = \"Hello, World!\"\n",
    "phrase_tuple = tuple(phrase)  # Convert string to tuple"
   ]
  },
  {
   "cell_type": "markdown",
   "id": "febe89f7-beea-42e3-a5b8-eba3b469fb5d",
   "metadata": {},
   "source": [
    "Q4. How do you write and execute a Python script from the command line?"
   ]
  },
  {
   "cell_type": "code",
   "execution_count": 16,
   "id": "57532a19-da68-4932-8509-7f157201606e",
   "metadata": {},
   "outputs": [
    {
     "name": "stdout",
     "output_type": "stream",
     "text": [
      "Hello, World!\n"
     ]
    }
   ],
   "source": [
    "# script.py\n",
    "print(\"Hello, World!\")\n",
    "      "
   ]
  },
  {
   "cell_type": "markdown",
   "id": "53093ac9-ab68-40d3-9026-4c58a0eced13",
   "metadata": {},
   "source": [
    "Q5. Given a list my_list = [1, 2, 3, 4, 5], write the code to slice the list and obtain the sub-list [2, 3]."
   ]
  },
  {
   "cell_type": "code",
   "execution_count": 14,
   "id": "0fcb25d6-faf8-4ab3-8774-bbefe998887a",
   "metadata": {},
   "outputs": [
    {
     "name": "stdout",
     "output_type": "stream",
     "text": [
      "[2, 3]\n"
     ]
    }
   ],
   "source": [
    "my_list = [1, 2, 3, 4, 5]\n",
    "sub_list = my_list[1:3]\n",
    "print(sub_list)  # Output: [2, 3]"
   ]
  },
  {
   "cell_type": "markdown",
   "id": "705ec827-6938-4a81-a60c-3a28a2cfd3d0",
   "metadata": {},
   "source": [
    "Q6. What is a complex number in mathematics, and how is it represented in Python?"
   ]
  },
  {
   "cell_type": "code",
   "execution_count": 20,
   "id": "883f9ef1-7087-4137-a1c0-a6a9d37f4e45",
   "metadata": {},
   "outputs": [
    {
     "name": "stdout",
     "output_type": "stream",
     "text": [
      "2.0\n",
      "3.0\n"
     ]
    }
   ],
   "source": [
    "# Complex number representation\n",
    "z1 = 2 + 3j     # Using the j suffix\n",
    "z2 = 4 - 2j\n",
    "z3 = complex(1, -1)  # Using the complex() function\n",
    "# Accessing real and imaginary parts\n",
    "print(z1.real)  # Output: 2.0\n",
    "print(z1.imag)  # Output: 3.0"
   ]
  },
  {
   "cell_type": "code",
   "execution_count": 21,
   "id": "42f6b7ad-dbc6-4f1c-8168-65e3f34d6a1e",
   "metadata": {},
   "outputs": [],
   "source": [
    "# Complex number arithmetic\n",
    "z_sum = z1 + z2   # Addition\n",
    "z_diff = z1 - z2  # Subtraction\n",
    "z_product = z1 * z2  # Multiplication\n",
    "z_quotient = z1 / z2  # Division"
   ]
  },
  {
   "cell_type": "markdown",
   "id": "a4ee120d-2a0c-492e-85fd-16fc27e69a5a",
   "metadata": {},
   "source": [
    "Q7. What is the correct way to declare a variable named age and assign the value 25 to it?"
   ]
  },
  {
   "cell_type": "code",
   "execution_count": 25,
   "id": "45314c46-30fd-4249-ab01-a9fc4695b19e",
   "metadata": {},
   "outputs": [
    {
     "data": {
      "text/plain": [
       "str"
      ]
     },
     "execution_count": 25,
     "metadata": {},
     "output_type": "execute_result"
    }
   ],
   "source": [
    "age = 25\n",
    "type('age')"
   ]
  },
  {
   "cell_type": "markdown",
   "id": "b61fa814-0312-43cd-8692-8b9c35b26644",
   "metadata": {},
   "source": [
    "Q8. Declare a variable named price and assign the value 9.99 to it. What data type does this variable\n",
    "belong to?"
   ]
  },
  {
   "cell_type": "code",
   "execution_count": 24,
   "id": "e1cbc7af-c22e-4d5e-b65a-491df9817188",
   "metadata": {},
   "outputs": [
    {
     "data": {
      "text/plain": [
       "str"
      ]
     },
     "execution_count": 24,
     "metadata": {},
     "output_type": "execute_result"
    }
   ],
   "source": [
    "price = 9.99\n",
    "type('price')"
   ]
  },
  {
   "cell_type": "markdown",
   "id": "6faebab0-a05d-46b8-9404-4159f730c895",
   "metadata": {},
   "source": [
    "Q9. Create a variable named name and assign your full name to it as a string. How would you print the\n",
    "value of this variable?"
   ]
  },
  {
   "cell_type": "code",
   "execution_count": 31,
   "id": "959754d9-d6f2-4aa8-aef8-cde41755bd40",
   "metadata": {},
   "outputs": [
    {
     "name": "stdout",
     "output_type": "stream",
     "text": [
      "Pradumn kumar\n"
     ]
    }
   ],
   "source": [
    "name = \"Your Full Name\"\n",
    "name = \"Pradumn kumar\"\n",
    "print(name)"
   ]
  },
  {
   "cell_type": "markdown",
   "id": "0824cfcc-0a8f-4149-913b-f6615636c759",
   "metadata": {},
   "source": [
    "Q10. Given the string \"Hello, World!\", extract the substring \"World\"."
   ]
  },
  {
   "cell_type": "code",
   "execution_count": 32,
   "id": "0afb0ed6-a6e0-4a42-86e0-9f80c5eeca4e",
   "metadata": {},
   "outputs": [
    {
     "name": "stdout",
     "output_type": "stream",
     "text": [
      "World\n"
     ]
    }
   ],
   "source": [
    "s = \"Hello, World!\"\n",
    "substring = s[7:12]\n",
    "print(substring)"
   ]
  },
  {
   "cell_type": "markdown",
   "id": "73b7f94e-1bdb-4ff1-b20d-a506be51f1cf",
   "metadata": {},
   "source": [
    "Q11. Create a variable named \"is_student\" and assign it a boolean value indicating whether you are\n",
    "currently a student or not."
   ]
  },
  {
   "cell_type": "code",
   "execution_count": 34,
   "id": "b18c3ddd-0e00-4bb9-a759-c96b6c0fa44b",
   "metadata": {},
   "outputs": [
    {
     "data": {
      "text/plain": [
       "str"
      ]
     },
     "execution_count": 34,
     "metadata": {},
     "output_type": "execute_result"
    }
   ],
   "source": [
    "is_student = True\n",
    "type(\"is_student\")"
   ]
  },
  {
   "cell_type": "code",
   "execution_count": null,
   "id": "52bd81b2-a608-4d3c-bead-49f9cdd72d2c",
   "metadata": {},
   "outputs": [],
   "source": []
  }
 ],
 "metadata": {
  "kernelspec": {
   "display_name": "Python 3 (ipykernel)",
   "language": "python",
   "name": "python3"
  },
  "language_info": {
   "codemirror_mode": {
    "name": "ipython",
    "version": 3
   },
   "file_extension": ".py",
   "mimetype": "text/x-python",
   "name": "python",
   "nbconvert_exporter": "python",
   "pygments_lexer": "ipython3",
   "version": "3.10.8"
  }
 },
 "nbformat": 4,
 "nbformat_minor": 5
}
