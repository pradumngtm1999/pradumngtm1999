{
 "cells": [
  {
   "cell_type": "markdown",
   "id": "8477f6eb-ee43-4111-94e5-9667163fa04b",
   "metadata": {},
   "source": [
    "Q1. Create a Pandas Series that contains the following data: 4, 8, 15, 16, 23, and 42. Then, print the series."
   ]
  },
  {
   "cell_type": "code",
   "execution_count": 1,
   "id": "6f6963e3-e6eb-4c6f-b49d-bacaf31e086a",
   "metadata": {},
   "outputs": [
    {
     "name": "stdout",
     "output_type": "stream",
     "text": [
      "0     4\n",
      "1     8\n",
      "2    15\n",
      "3    16\n",
      "4    23\n",
      "5    42\n",
      "dtype: int64\n"
     ]
    }
   ],
   "source": [
    "import pandas as pd\n",
    "\n",
    "data = [4, 8, 15, 16, 23, 42]\n",
    "series = pd.Series(data)\n",
    "print(series)\n"
   ]
  },
  {
   "cell_type": "markdown",
   "id": "ac0de28c-5479-4dbe-bd58-e93e0bf956c8",
   "metadata": {},
   "source": [
    "Q2. Create a variable of list type containing 10 elements in it, and apply pandas.Series function on the\n",
    "variable print it."
   ]
  },
  {
   "cell_type": "code",
   "execution_count": 2,
   "id": "147e2fad-3615-41e0-bc3f-a7a98c83aa3c",
   "metadata": {},
   "outputs": [
    {
     "name": "stdout",
     "output_type": "stream",
     "text": [
      "0     1\n",
      "1     2\n",
      "2     3\n",
      "3     4\n",
      "4     5\n",
      "5     6\n",
      "6     7\n",
      "7     8\n",
      "8     9\n",
      "9    10\n",
      "dtype: int64\n"
     ]
    }
   ],
   "source": [
    "import pandas as pd\n",
    "\n",
    "# Creating a list with 10 elements\n",
    "my_list = [1, 2, 3, 4, 5, 6, 7, 8, 9, 10]\n",
    "\n",
    "# Converting the list to a Pandas Series\n",
    "series_from_list = pd.Series(my_list)\n",
    "print(series_from_list)\n"
   ]
  },
  {
   "cell_type": "markdown",
   "id": "0a240956-0b2b-422e-a95c-883ed0cccd7c",
   "metadata": {},
   "source": [
    "Q3. Create a Pandas DataFrame that contains the following data:\n",
    "Name\n",
    "Alice\n",
    "Bob\n",
    "Claire\n",
    "\n",
    "Age\n",
    "25\n",
    "30\n",
    "27\n",
    "\n",
    "Gender\n",
    "Female\n",
    "Male\n",
    "Female\n",
    "Then, print the DataFrame."
   ]
  },
  {
   "cell_type": "code",
   "execution_count": 3,
   "id": "da911767-f2f5-4320-9b7d-6f09bd9d88ac",
   "metadata": {},
   "outputs": [
    {
     "name": "stdout",
     "output_type": "stream",
     "text": [
      "     Name  Age  Gender\n",
      "0   Alice   25  Female\n",
      "1     Bob   30    Male\n",
      "2  Claire   27  Female\n"
     ]
    }
   ],
   "source": [
    "import pandas as pd\n",
    "\n",
    "data = {\n",
    "    'Name': ['Alice', 'Bob', 'Claire'],\n",
    "    'Age': [25, 30, 27],\n",
    "    'Gender': ['Female', 'Male', 'Female']\n",
    "}\n",
    "\n",
    "df = pd.DataFrame(data)\n",
    "print(df)\n"
   ]
  },
  {
   "cell_type": "markdown",
   "id": "a118bd42-d4d2-4509-8240-ca3336a7c2ff",
   "metadata": {},
   "source": [
    "Q4. What is ‘DataFrame’ in pandas and how is it different from pandas.series? Explain with an example."
   ]
  },
  {
   "cell_type": "code",
   "execution_count": 4,
   "id": "dc80a88e-3f34-4f01-9978-46b69b56c98e",
   "metadata": {},
   "outputs": [
    {
     "name": "stdout",
     "output_type": "stream",
     "text": [
      "Series:\n",
      "0    10\n",
      "1    20\n",
      "2    30\n",
      "3    40\n",
      "4    50\n",
      "dtype: int64\n",
      "\n",
      "Type of series_data: <class 'pandas.core.series.Series'>\n",
      "\n",
      "DataFrame:\n",
      "   Column_1 Column_2\n",
      "0         1        A\n",
      "1         2        B\n",
      "2         3        C\n",
      "\n",
      "Type of df: <class 'pandas.core.frame.DataFrame'>\n"
     ]
    }
   ],
   "source": [
    "import pandas as pd\n",
    "\n",
    "# Creating a Series\n",
    "series_data = pd.Series([10, 20, 30, 40, 50])\n",
    "print(\"Series:\")\n",
    "print(series_data)\n",
    "print(\"\\nType of series_data:\", type(series_data))\n",
    "\n",
    "# Creating a DataFrame\n",
    "data = {\n",
    "    'Column_1': [1, 2, 3],\n",
    "    'Column_2': ['A', 'B', 'C']\n",
    "}\n",
    "df = pd.DataFrame(data)\n",
    "print(\"\\nDataFrame:\")\n",
    "print(df)\n",
    "print(\"\\nType of df:\", type(df))\n"
   ]
  },
  {
   "cell_type": "markdown",
   "id": "f168534f-ddac-47f4-b444-7200b0b359cf",
   "metadata": {},
   "source": [
    "Q5. What are some common functions you can use to manipulate data in a Pandas DataFrame? Can\n",
    "you give an example of when you might use one of these functions?"
   ]
  },
  {
   "cell_type": "code",
   "execution_count": 5,
   "id": "1d63a8c7-fd3a-42cf-b1a9-bf4a003bf53a",
   "metadata": {},
   "outputs": [
    {
     "name": "stdout",
     "output_type": "stream",
     "text": [
      "   Column_1 Column_2\n",
      "0         1        A\n",
      "1         2        B\n",
      "2         3        C\n"
     ]
    }
   ],
   "source": [
    "# Example using head()\n",
    "print(df.head())  # Displays the first 5 rows by default\n"
   ]
  },
  {
   "cell_type": "code",
   "execution_count": 6,
   "id": "37e61451-8110-4101-b595-51f75c837212",
   "metadata": {},
   "outputs": [
    {
     "name": "stdout",
     "output_type": "stream",
     "text": [
      "       Column_1\n",
      "count       3.0\n",
      "mean        2.0\n",
      "std         1.0\n",
      "min         1.0\n",
      "25%         1.5\n",
      "50%         2.0\n",
      "75%         2.5\n",
      "max         3.0\n"
     ]
    }
   ],
   "source": [
    "# Example using describe()\n",
    "print(df.describe())\n"
   ]
  },
  {
   "cell_type": "code",
   "execution_count": 7,
   "id": "701c8b69-1d9a-4c10-8b48-f1be1a2d2480",
   "metadata": {},
   "outputs": [
    {
     "name": "stdout",
     "output_type": "stream",
     "text": [
      "<class 'pandas.core.frame.DataFrame'>\n",
      "RangeIndex: 3 entries, 0 to 2\n",
      "Data columns (total 2 columns):\n",
      " #   Column    Non-Null Count  Dtype \n",
      "---  ------    --------------  ----- \n",
      " 0   Column_1  3 non-null      int64 \n",
      " 1   Column_2  3 non-null      object\n",
      "dtypes: int64(1), object(1)\n",
      "memory usage: 176.0+ bytes\n",
      "None\n"
     ]
    }
   ],
   "source": [
    "# Example using info()\n",
    "print(df.info())\n"
   ]
  },
  {
   "cell_type": "code",
   "execution_count": 15,
   "id": "7452a238-39ae-46f5-beea-4d5569ec8ba8",
   "metadata": {},
   "outputs": [
    {
     "name": "stdout",
     "output_type": "stream",
     "text": [
      "Column_1    1\n",
      "Column_2    A\n",
      "Name: 0, dtype: object\n",
      "0    A\n",
      "1    B\n",
      "2    C\n",
      "Name: Column_2, dtype: object\n"
     ]
    }
   ],
   "source": [
    "# Example using loc[]\n",
    "print(df.loc[0])  # Accessing the first row\n",
    "\n",
    "# Example using iloc[]\n",
    "print(df.iloc[:, 1])  # Accessing the second column\n",
    "\n"
   ]
  },
  {
   "cell_type": "code",
   "execution_count": 16,
   "id": "d9416f1a-c2dd-4788-aeb2-6c80d1e58c5b",
   "metadata": {},
   "outputs": [],
   "source": [
    "# Example using drop()\n",
    "df_dropped = df.drop('Column_1', axis=1) \n"
   ]
  },
  {
   "cell_type": "code",
   "execution_count": 17,
   "id": "b2d39467-9383-47a2-8945-0ad12f051613",
   "metadata": {},
   "outputs": [],
   "source": [
    "# Example using fillna()\n",
    "df_filled = df.fillna(0) \n"
   ]
  },
  {
   "cell_type": "code",
   "execution_count": 18,
   "id": "f61cdb9a-8ab2-4053-b1b2-0bf154f84337",
   "metadata": {},
   "outputs": [],
   "source": [
    "# Example using groupby()\n",
    "grouped_data = df.groupby('Column_2').mean()  # Calculates the mean based on 'Column_2'\n"
   ]
  },
  {
   "cell_type": "markdown",
   "id": "7abbe3a6-fee0-4b5f-843a-a5d0c86d3dc6",
   "metadata": {},
   "source": [
    "Q6. Which of the following is mutable in nature Series, DataFrame, Panel?"
   ]
  },
  {
   "cell_type": "markdown",
   "id": "0054b1c8-d71e-4a26-8a59-82e51c1c13be",
   "metadata": {},
   "source": [
    "\n",
    "In Pandas, both Series and DataFrame are mutable, meaning their contents can be modified after creation.\n",
    "\n",
    "Series: A Pandas Series is mutable. Elements within a Series can be changed, added, or removed after its creation.\n",
    "\n",
    "DataFrame: Similarly, a Pandas DataFrame is also mutable. Columns can be added, deleted, or modified, and rows can be appended, dropped, or altered after the DataFrame is created."
   ]
  }
 ],
 "metadata": {
  "kernelspec": {
   "display_name": "Python 3 (ipykernel)",
   "language": "python",
   "name": "python3"
  },
  "language_info": {
   "codemirror_mode": {
    "name": "ipython",
    "version": 3
   },
   "file_extension": ".py",
   "mimetype": "text/x-python",
   "name": "python",
   "nbconvert_exporter": "python",
   "pygments_lexer": "ipython3",
   "version": "3.10.8"
  }
 },
 "nbformat": 4,
 "nbformat_minor": 5
}
