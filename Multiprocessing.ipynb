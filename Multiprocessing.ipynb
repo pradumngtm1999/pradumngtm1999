{
 "cells": [
  {
   "cell_type": "markdown",
   "id": "9c18a161-8f85-4e48-bec7-0b7821a7028e",
   "metadata": {},
   "source": [
    "Q1. What is multiprocessing in python? Why is it useful?"
   ]
  },
  {
   "cell_type": "markdown",
   "id": "cd81f4ae-49b3-44d2-a250-8cb879121e5f",
   "metadata": {},
   "source": [
    "Multiprocessing in Python refers to the capability of creating and running multiple processes concurrently to perform tasks in parallel. Unlike multithreading, where multiple threads share the same memory space within a single process, multiprocessing involves creating separate memory spaces for each process. Each process has its own Python interpreter and memory, allowing them to run truly independently and utilize multiple CPU cores effectively.\n",
    "\n",
    "Multiprocessing is useful for several reasons:\n",
    "\n",
    "Parallel Execution: Multiprocessing allows you to execute tasks in parallel across multiple CPU cores or processors. This can lead to significant performance improvements, especially for CPU-bound tasks that require intensive computation.\n",
    "\n",
    "CPU-Bound Tasks: For tasks that primarily involve computation and are limited by the Global Interpreter Lock (GIL) in CPython (as in the case of multithreading), multiprocessing provides a way to take full advantage of multiple CPU cores, as each process runs in its own interpreter and memory space.\n",
    "\n",
    "Isolation and Reliability: Each process runs independently, which means that if one process crashes or experiences an error, it typically doesn't affect other processes. This isolation can improve the overall reliability of the application.\n",
    "\n",
    "Resource Utilization: Multiprocessing enables better utilization of available system resources, such as CPU cores and memory, by distributing tasks across multiple processes.\n",
    "\n",
    "Scalability: As the number of CPU cores increases in modern systems, multiprocessing becomes even more valuable for harnessing the full processing power of the hardware.\n",
    "\n",
    "Avoiding GIL Limitations: In cases where the GIL impacts the performance of multithreaded programs, using multiprocessing can provide a solution by allowing each process to execute without GIL restrictions."
   ]
  },
  {
   "cell_type": "markdown",
   "id": "4871576c-412c-4c28-9f68-1541ef79f1cb",
   "metadata": {},
   "source": [
    "Q2. What are the differences between multiprocessing and multithreading?"
   ]
  },
  {
   "cell_type": "markdown",
   "id": "e99ad3a4-f564-4d5d-af03-cd994c43b246",
   "metadata": {},
   "source": [
    "1. Memory and Isolation:\n",
    "\n",
    "Multiprocessing: In multiprocessing, each process has its own separate memory space and Python interpreter. Processes do not share memory by default, which provides strong isolation between them.\n",
    "Multithreading: In multithreading, all threads within a process share the same memory space and resources, including global variables. Threads run within the same Python interpreter.\n",
    "2. Resource Utilization:\n",
    "\n",
    "Multiprocessing: Processes can take advantage of multiple CPU cores, making multiprocessing well-suited for CPU-bound tasks that require intensive computation.\n",
    "Multithreading: Due to the Global Interpreter Lock (GIL) in CPython, only one thread can execute Python bytecode at a time within a single process. As a result, multithreading is typically more suitable for I/O-bound tasks where threads spend time waiting for external operations like I/O.\n",
    "3. Parallelism:\n",
    "\n",
    "Multiprocessing: Provides true parallelism by running processes independently on separate cores or processors.\n",
    "Multithreading: Provides concurrency but not necessarily true parallelism, as only one thread can execute Python bytecode at a time due to the GIL.\n",
    "4. Communication and Synchronization:\n",
    "\n",
    "Multiprocessing: Inter-process communication (IPC) mechanisms like pipes, queues, and shared memory are used to facilitate communication between processes. Processes are isolated, which can help avoid some synchronization issues.\n",
    "Multithreading: Threads share memory space, which can lead to easier sharing of data but requires careful synchronization mechanisms like locks, mutexes, and semaphores to prevent race conditions.\n",
    "5. Overhead:\n",
    "\n",
    "Multiprocessing: Introduces more memory overhead due to separate memory spaces for each process. Creating and managing processes also comes with additional system resource overhead.\n",
    "Multithreading: Has lower memory overhead compared to multiprocessing because threads share memory space, but managing threads within a process still comes with some overhead.\n",
    "6. Debugging and Complexity:\n",
    "\n",
    "Multiprocessing: Debugging can be somewhat easier since processes are isolated and less likely to interfere with each other. However, communication between processes can be more complex.\n",
    "Multithreading: Debugging can be more complex due to shared memory and potential race conditions. Careful synchronization is required to avoid issues.\n",
    "7. Use Cases:\n",
    "\n",
    "Multiprocessing: Well-suited for CPU-bound tasks that require intensive computation and can benefit from parallel processing.\n",
    "Multithreading: Suitable for I/O-bound tasks that involve waiting for external operations like reading/writing files, network communication, or database access."
   ]
  },
  {
   "cell_type": "markdown",
   "id": "e1959545-ffca-417e-b795-164e523a34f9",
   "metadata": {},
   "source": [
    "Q3. Write a python code to create a process using the multiprocessing module."
   ]
  },
  {
   "cell_type": "code",
   "execution_count": 1,
   "id": "1baf6aa6-1f63-421a-8c53-eb3e09f1d197",
   "metadata": {},
   "outputs": [
    {
     "name": "stdout",
     "output_type": "stream",
     "text": [
      "Worker process with number 5 started.\n",
      "Worker process with number 5 finished. Result: 10\n",
      "Main process finished.\n"
     ]
    }
   ],
   "source": [
    "import multiprocessing\n",
    "\n",
    "def worker_function(number):\n",
    "    print(f\"Worker process with number {number} started.\")\n",
    "    result = number * 2\n",
    "    print(f\"Worker process with number {number} finished. Result: {result}\")\n",
    "\n",
    "if __name__ == \"__main__\":\n",
    "    # Create a Process object targeting the worker_function\n",
    "    process = multiprocessing.Process(target=worker_function, args=(5,))\n",
    "\n",
    "    # Start the process\n",
    "    process.start()\n",
    "\n",
    "    # Wait for the process to finish\n",
    "    process.join()\n",
    "\n",
    "    print(\"Main process finished.\")\n"
   ]
  },
  {
   "cell_type": "markdown",
   "id": "a2c7eeed-eb10-482a-af1a-72c78e9e5564",
   "metadata": {},
   "source": [
    "Q4. What is a multiprocessing pool in python? Why is it used?"
   ]
  },
  {
   "cell_type": "code",
   "execution_count": 2,
   "id": "5602cc4a-2ac7-4e04-867d-77d00237ba46",
   "metadata": {},
   "outputs": [
    {
     "name": "stdout",
     "output_type": "stream",
     "text": [
      "Results: [2, 4, 6, 8, 10]\n"
     ]
    }
   ],
   "source": [
    "import multiprocessing\n",
    "\n",
    "def worker_function(number):\n",
    "    return number * 2\n",
    "\n",
    "if __name__ == \"__main__\":\n",
    "    # Create a pool with 4 worker processes\n",
    "    pool = multiprocessing.Pool(processes=4)\n",
    "\n",
    "    # Distribute tasks among the worker processes\n",
    "    results = pool.map(worker_function, [1, 2, 3, 4, 5])\n",
    "\n",
    "    # Close the pool and wait for all processes to finish\n",
    "    pool.close()\n",
    "    pool.join()\n",
    "\n",
    "    print(\"Results:\", results)\n"
   ]
  },
  {
   "cell_type": "markdown",
   "id": "37b49423-a1e3-4f75-b410-010aafda1bfd",
   "metadata": {},
   "source": [
    "Q5. How can we create a pool of worker processes in python using the multiprocessing module?"
   ]
  },
  {
   "cell_type": "code",
   "execution_count": 3,
   "id": "0eb68b80-1fda-4669-9c56-7117d52c151f",
   "metadata": {},
   "outputs": [
    {
     "name": "stdout",
     "output_type": "stream",
     "text": [
      "Results: [2, 4, 6, 8, 10]\n"
     ]
    }
   ],
   "source": [
    "import multiprocessing\n",
    "\n",
    "def worker_function(number):\n",
    "    return number * 2\n",
    "\n",
    "if __name__ == \"__main__\":\n",
    "    # Create a pool with a specified number of worker processes\n",
    "    pool = multiprocessing.Pool(processes=4)  # Specify the desired number of processes\n",
    "\n",
    "    # Distribute tasks among the worker processes using the map function\n",
    "    input_data = [1, 2, 3, 4, 5]\n",
    "    results = pool.map(worker_function, input_data)\n",
    "\n",
    "    # Close the pool and wait for all processes to finish\n",
    "    pool.close()\n",
    "    pool.join()\n",
    "\n",
    "    print(\"Results:\", results)\n"
   ]
  },
  {
   "cell_type": "markdown",
   "id": "aae38651-591e-4572-bc05-ff5c466eaf4a",
   "metadata": {},
   "source": [
    "Q6. Write a python program to create 4 processes, each process should print a different number using the\n",
    "multiprocessing module in python."
   ]
  },
  {
   "cell_type": "code",
   "execution_count": 4,
   "id": "d1736371-4bae-4eeb-9d73-8a6ae078f6f9",
   "metadata": {},
   "outputs": [
    {
     "name": "stdout",
     "output_type": "stream",
     "text": [
      "Process 1: Printing 1\n",
      "Process 2: Printing 2\n",
      "Process 3: Printing 3\n",
      "Process 4: Printing 4\n",
      "All processes have finished.\n"
     ]
    }
   ],
   "source": [
    "import multiprocessing\n",
    "\n",
    "def print_number(number):\n",
    "    print(f\"Process {number}: Printing {number}\")\n",
    "\n",
    "if __name__ == \"__main__\":\n",
    "    processes = []\n",
    "\n",
    "    for i in range(1, 5):\n",
    "        process = multiprocessing.Process(target=print_number, args=(i,))\n",
    "        processes.append(process)\n",
    "        process.start()\n",
    "\n",
    "    for process in processes:\n",
    "        process.join()\n",
    "\n",
    "    print(\"All processes have finished.\")\n"
   ]
  },
  {
   "cell_type": "code",
   "execution_count": null,
   "id": "75b954dc-2cd8-4ae3-8433-b18f64bc168a",
   "metadata": {},
   "outputs": [],
   "source": []
  }
 ],
 "metadata": {
  "kernelspec": {
   "display_name": "Python 3 (ipykernel)",
   "language": "python",
   "name": "python3"
  },
  "language_info": {
   "codemirror_mode": {
    "name": "ipython",
    "version": 3
   },
   "file_extension": ".py",
   "mimetype": "text/x-python",
   "name": "python",
   "nbconvert_exporter": "python",
   "pygments_lexer": "ipython3",
   "version": "3.10.8"
  }
 },
 "nbformat": 4,
 "nbformat_minor": 5
}
