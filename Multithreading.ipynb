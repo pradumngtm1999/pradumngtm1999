{
 "cells": [
  {
   "cell_type": "markdown",
   "id": "4d9e9227-2988-4c7d-b372-e3f6fbbbac8f",
   "metadata": {},
   "source": [
    "Q1. what is multithreading in python? hy is it used? Name the module used to handle threads in python\n"
   ]
  },
  {
   "cell_type": "code",
   "execution_count": 1,
   "id": "a9c8a4ab-a0ca-4523-aa53-2c110cfe8758",
   "metadata": {},
   "outputs": [
    {
     "name": "stdout",
     "output_type": "stream",
     "text": [
      "Number: 1\n",
      "Number: 2\n",
      "Number: 3\n",
      "Number: 4\n",
      "Number: 5\n",
      "Letter: a\n",
      "Letter: b\n",
      "Letter: c\n",
      "Letter: d\n",
      "Letter: e\n",
      "Both threads have finished.\n"
     ]
    }
   ],
   "source": [
    "import threading\n",
    "\n",
    "def print_numbers():\n",
    "    for i in range(1, 6):\n",
    "        print(\"Number:\", i)\n",
    "\n",
    "def print_letters():\n",
    "    for letter in 'abcde':\n",
    "        print(\"Letter:\", letter)\n",
    "\n",
    "# Create two thread objects\n",
    "thread1 = threading.Thread(target=print_numbers)\n",
    "thread2 = threading.Thread(target=print_letters)\n",
    "\n",
    "# Start the threads\n",
    "thread1.start()\n",
    "thread2.start()\n",
    "\n",
    "# Wait for both threads to finish\n",
    "thread1.join()\n",
    "thread2.join()\n",
    "\n",
    "print(\"Both threads have finished.\")\n"
   ]
  },
  {
   "cell_type": "markdown",
   "id": "eb0406d3-0a9a-4f1f-8b73-56cb3c9e4f8b",
   "metadata": {},
   "source": [
    "Q2. why threading module used? rite the use of the following functions\n",
    "( activeCount\n",
    " currentThread\n",
    " enumerate)"
   ]
  },
  {
   "cell_type": "code",
   "execution_count": 2,
   "id": "b246db3b-b2c4-40f2-b434-841f27a46ed6",
   "metadata": {},
   "outputs": [
    {
     "name": "stdout",
     "output_type": "stream",
     "text": [
      "Number of active threads: 8\n"
     ]
    },
    {
     "name": "stderr",
     "output_type": "stream",
     "text": [
      "/tmp/ipykernel_119/1441278097.py:3: DeprecationWarning: activeCount() is deprecated, use active_count() instead\n",
      "  active_threads = threading.activeCount()\n"
     ]
    }
   ],
   "source": [
    "import threading\n",
    "\n",
    "active_threads = threading.activeCount()\n",
    "print(\"Number of active threads:\", active_threads)\n"
   ]
  },
  {
   "cell_type": "code",
   "execution_count": 3,
   "id": "66a54207-02f0-40bc-b1d9-30e5bbbc51bf",
   "metadata": {},
   "outputs": [
    {
     "name": "stdout",
     "output_type": "stream",
     "text": [
      "Current thread name: MainThread\n",
      "Current thread identifier: 139996737472320\n"
     ]
    },
    {
     "name": "stderr",
     "output_type": "stream",
     "text": [
      "/tmp/ipykernel_119/772583044.py:3: DeprecationWarning: currentThread() is deprecated, use current_thread() instead\n",
      "  current_thread = threading.currentThread()\n"
     ]
    }
   ],
   "source": [
    "import threading\n",
    "\n",
    "current_thread = threading.currentThread()\n",
    "print(\"Current thread name:\", current_thread.name)\n",
    "print(\"Current thread identifier:\", current_thread.ident)\n"
   ]
  },
  {
   "cell_type": "code",
   "execution_count": 4,
   "id": "8ed3989e-0ec5-43e8-95ba-84265161fd65",
   "metadata": {},
   "outputs": [
    {
     "name": "stdout",
     "output_type": "stream",
     "text": [
      "List of all active threads:\n",
      "Thread name: MainThread\n",
      "Thread identifier: 139996737472320\n",
      "Thread name: IOPub\n",
      "Thread identifier: 139996666943040\n",
      "Thread name: Heartbeat\n",
      "Thread identifier: 139996658550336\n",
      "Thread name: Thread-3 (_watch_pipe_fd)\n",
      "Thread identifier: 139996633372224\n",
      "Thread name: Thread-4 (_watch_pipe_fd)\n",
      "Thread identifier: 139996624979520\n",
      "Thread name: Control\n",
      "Thread identifier: 139996616586816\n",
      "Thread name: IPythonHistorySavingThread\n",
      "Thread identifier: 139996136732224\n",
      "Thread name: Thread-2\n",
      "Thread identifier: 139996128339520\n"
     ]
    }
   ],
   "source": [
    "import threading\n",
    "\n",
    "all_threads = threading.enumerate()\n",
    "print(\"List of all active threads:\")\n",
    "for thread in all_threads:\n",
    "    print(\"Thread name:\", thread.name)\n",
    "    print(\"Thread identifier:\", thread.ident)\n"
   ]
  },
  {
   "cell_type": "markdown",
   "id": "d4e55be4-7214-43c1-9010-bd7805b57301",
   "metadata": {},
   "source": [
    "Q3. Explain the following functions\n",
    "( run\n",
    " start\n",
    " join\n",
    "' isAlive)"
   ]
  },
  {
   "cell_type": "code",
   "execution_count": 5,
   "id": "22f8e4a9-1121-4365-9241-044224db0fa2",
   "metadata": {},
   "outputs": [
    {
     "name": "stdout",
     "output_type": "stream",
     "text": [
      "Thread is running.\n"
     ]
    }
   ],
   "source": [
    "import threading\n",
    "\n",
    "class MyThread(threading.Thread):\n",
    "    def run(self):\n",
    "        print(\"Thread is running.\")\n",
    "\n",
    "my_thread = MyThread()\n",
    "my_thread.start()  # This will call the overridden run() method\n"
   ]
  },
  {
   "cell_type": "code",
   "execution_count": 6,
   "id": "3c6c47ae-53c2-4b4b-aae5-85e8df8c900d",
   "metadata": {},
   "outputs": [
    {
     "name": "stdout",
     "output_type": "stream",
     "text": [
      "Thread is running.\n"
     ]
    }
   ],
   "source": [
    "import threading\n",
    "\n",
    "def my_function():\n",
    "    print(\"Thread is running.\")\n",
    "\n",
    "my_thread = threading.Thread(target=my_function)\n",
    "my_thread.start()  # Initiates the execution of my_function in a new thread\n"
   ]
  },
  {
   "cell_type": "code",
   "execution_count": 7,
   "id": "b2edf37d-95de-4058-95f3-f172aeaa5f12",
   "metadata": {},
   "outputs": [
    {
     "name": "stdout",
     "output_type": "stream",
     "text": [
      "Thread is running.\n",
      "Thread has finished.\n"
     ]
    }
   ],
   "source": [
    "import threading\n",
    "\n",
    "def my_function():\n",
    "    print(\"Thread is running.\")\n",
    "\n",
    "my_thread = threading.Thread(target=my_function)\n",
    "my_thread.start()\n",
    "my_thread.join()  # Wait for my_thread to finish before proceeding\n",
    "print(\"Thread has finished.\")\n"
   ]
  },
  {
   "cell_type": "code",
   "execution_count": 8,
   "id": "5ac2d15f-3feb-41a9-8148-d45b47815e80",
   "metadata": {},
   "outputs": [
    {
     "ename": "AttributeError",
     "evalue": "'Thread' object has no attribute 'isAlive'",
     "output_type": "error",
     "traceback": [
      "\u001b[0;31m---------------------------------------------------------------------------\u001b[0m",
      "\u001b[0;31mAttributeError\u001b[0m                            Traceback (most recent call last)",
      "Cell \u001b[0;32mIn[8], line 9\u001b[0m\n\u001b[1;32m      7\u001b[0m my_thread \u001b[38;5;241m=\u001b[39m threading\u001b[38;5;241m.\u001b[39mThread(target\u001b[38;5;241m=\u001b[39mmy_function)\n\u001b[1;32m      8\u001b[0m my_thread\u001b[38;5;241m.\u001b[39mstart()\n\u001b[0;32m----> 9\u001b[0m \u001b[38;5;28mprint\u001b[39m(\u001b[38;5;124m\"\u001b[39m\u001b[38;5;124mThread is alive:\u001b[39m\u001b[38;5;124m\"\u001b[39m, \u001b[43mmy_thread\u001b[49m\u001b[38;5;241;43m.\u001b[39;49m\u001b[43misAlive\u001b[49m())  \u001b[38;5;66;03m# Will print True while the thread is running\u001b[39;00m\n\u001b[1;32m     10\u001b[0m my_thread\u001b[38;5;241m.\u001b[39mjoin()  \u001b[38;5;66;03m# Wait for the thread to finish\u001b[39;00m\n\u001b[1;32m     11\u001b[0m \u001b[38;5;28mprint\u001b[39m(\u001b[38;5;124m\"\u001b[39m\u001b[38;5;124mThread is alive:\u001b[39m\u001b[38;5;124m\"\u001b[39m, my_thread\u001b[38;5;241m.\u001b[39misAlive())  \u001b[38;5;66;03m# Will print False after the thread has finished\u001b[39;00m\n",
      "\u001b[0;31mAttributeError\u001b[0m: 'Thread' object has no attribute 'isAlive'"
     ]
    }
   ],
   "source": [
    "import threading\n",
    "import time\n",
    "\n",
    "def my_function():\n",
    "    time.sleep(2)\n",
    "\n",
    "my_thread = threading.Thread(target=my_function)\n",
    "my_thread.start()\n",
    "print(\"Thread is alive:\", my_thread.isAlive())  # Will print True while the thread is running\n",
    "my_thread.join()  # Wait for the thread to finish\n",
    "print(\"Thread is alive:\", my_thread.isAlive())  # Will print False after the thread has finished\n"
   ]
  },
  {
   "cell_type": "markdown",
   "id": "a5699c1c-0d86-4933-9837-0dd2f4e4584f",
   "metadata": {},
   "source": [
    "Q4. write a python program to create two threads. Thread one must print the list of squares and thread\n",
    "two must print the list of cubes"
   ]
  },
  {
   "cell_type": "code",
   "execution_count": 9,
   "id": "52c55e7b-05f6-4257-8525-9a37f355f5fc",
   "metadata": {},
   "outputs": [
    {
     "name": "stdout",
     "output_type": "stream",
     "text": [
      "List of squares: [1, 4, 9, 16, 25]\n",
      "List of cubes: [1, 8, 27, 64, 125]\n",
      "Both threads have finished.\n"
     ]
    }
   ],
   "source": [
    "import threading\n",
    "\n",
    "def print_squares():\n",
    "    squares = [x * x for x in range(1, 6)]\n",
    "    print(\"List of squares:\", squares)\n",
    "\n",
    "def print_cubes():\n",
    "    cubes = [x ** 3 for x in range(1, 6)]\n",
    "    print(\"List of cubes:\", cubes)\n",
    "\n",
    "# Create two thread objects\n",
    "thread1 = threading.Thread(target=print_squares)\n",
    "thread2 = threading.Thread(target=print_cubes)\n",
    "\n",
    "# Start the threads\n",
    "thread1.start()\n",
    "thread2.start()\n",
    "\n",
    "# Wait for both threads to finish\n",
    "thread1.join()\n",
    "thread2.join()\n",
    "\n",
    "print(\"Both threads have finished.\")\n"
   ]
  },
  {
   "cell_type": "markdown",
   "id": "956f0fed-9c4f-4dad-ae7c-bffaa3bc599b",
   "metadata": {},
   "source": [
    "Q5. State advantages and disadvantages of multithreading"
   ]
  },
  {
   "cell_type": "markdown",
   "id": "d2998522-1271-41ef-b63f-8e21ee378570",
   "metadata": {},
   "source": [
    "Advantages:\n",
    "\n",
    "Parallelism and Improved Performance: Multithreading allows multiple tasks to be executed concurrently, making efficient use of available CPU cores and potentially speeding up the execution of tasks that can be parallelized. This can lead to improved overall performance and responsiveness in applications, especially for I/O-bound tasks.\n",
    "\n",
    "Resource Sharing: Threads within the same process can share data and resources more easily compared to separate processes. This can lead to reduced memory consumption and improved communication between components.\n",
    "\n",
    "Efficient I/O Operations: Threads are particularly effective for I/O-bound operations, such as reading and writing files, network communication, and database access. While one thread is waiting for I/O, others can continue processing.\n",
    "\n",
    "Low Overhead: Threads have lower memory and resource overhead compared to separate processes, making them a lightweight way to achieve concurrent execution.\n",
    "\n",
    "Simplified Complex Tasks: In certain scenarios, multithreading can simplify the implementation of complex tasks by breaking them down into smaller, manageable threads that can be developed and tested independently.\n",
    "\n",
    "Disadvantages:\n",
    "\n",
    "Complexity and Synchronization: Multithreading introduces challenges related to thread synchronization and coordination. Proper synchronization mechanisms must be used to prevent issues such as race conditions, deadlocks, and data corruption.\n",
    "\n",
    "Debugging and Testing: Debugging multithreaded programs can be more complex due to the potential for unpredictable interactions between threads. Identifying and fixing issues can be challenging and time-consuming.\n",
    "\n",
    "Limited CPU-bound Performance Improvement: In some cases, especially with CPU-bound tasks, the Global Interpreter Lock (GIL) in the CPython interpreter can limit the performance improvement gained from multithreading. This is because only one thread can execute Python bytecode at a time in a single process.\n",
    "\n",
    "Increased Complexity for CPU-Bound Tasks: For CPU-bound tasks that require intensive computation, multithreading might not provide significant performance improvement due to the GIL limitations. In these cases, multiprocessing or asynchronous programming may be more appropriate.\n",
    "\n",
    "Resource Contentions: Threads within the same process share resources, which can lead to resource contention and performance bottlenecks if not managed properly.\n",
    "\n",
    "Portability and Compatibility: Multithreading behavior can vary between different operating systems and programming languages, which can make code less portable and compatible."
   ]
  },
  {
   "cell_type": "markdown",
   "id": "a124cc70-832a-4cd3-abe0-c83ba2289396",
   "metadata": {},
   "source": [
    "Q6. Explain deadlocks and race conditions."
   ]
  },
  {
   "cell_type": "markdown",
   "id": "0391e748-f93c-42ff-b738-c95a870ef3a6",
   "metadata": {},
   "source": [
    "Deadlocks:\n",
    "\n",
    "A deadlock occurs when two or more threads or processes are unable to proceed with their execution because each is waiting for a resource that is held by another. In other words, it's a situation where multiple threads are stuck in a circular dependency, preventing any of them from making progress. Deadlocks can bring the entire system to a standstill.\n",
    "\n",
    "For a deadlock to occur, four conditions must be satisfied, known as the Coffman Conditions:\n",
    "\n",
    "Mutual Exclusion: Resources cannot be shared simultaneously; only one thread or process can use a resource at a time.\n",
    "Hold and Wait: A thread holds at least one resource and is waiting to acquire additional resources.\n",
    "No Preemption: Resources cannot be forcibly taken away from a thread; they can only be released voluntarily.\n",
    "Circular Wait: A circular chain of two or more threads exists, where each thread is waiting for a resource held by the next thread in the chain.\n",
    "Deadlocks are complex to prevent and resolve. Proper resource allocation strategies, deadlock detection algorithms, and thread coordination techniques are necessary to avoid deadlocks.\n",
    "\n",
    "Race Conditions:\n",
    "\n",
    "A race condition occurs when the behavior of a program depends on the relative timing of events. It arises when multiple threads or processes access shared resources concurrently without proper synchronization mechanisms. As a result, the outcome becomes unpredictable, and the correct execution of the program becomes dependent on the order of execution of threads, which can vary."
   ]
  },
  {
   "cell_type": "code",
   "execution_count": null,
   "id": "b222aab1-a30d-4da1-9c56-6ea1746da0cc",
   "metadata": {},
   "outputs": [],
   "source": []
  }
 ],
 "metadata": {
  "kernelspec": {
   "display_name": "Python 3 (ipykernel)",
   "language": "python",
   "name": "python3"
  },
  "language_info": {
   "codemirror_mode": {
    "name": "ipython",
    "version": 3
   },
   "file_extension": ".py",
   "mimetype": "text/x-python",
   "name": "python",
   "nbconvert_exporter": "python",
   "pygments_lexer": "ipython3",
   "version": "3.10.8"
  }
 },
 "nbformat": 4,
 "nbformat_minor": 5
}
