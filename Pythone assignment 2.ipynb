{
 "cells": [
  {
   "cell_type": "markdown",
   "id": "aa22a8e4-c064-4e08-9304-0dc07d931982",
   "metadata": {},
   "source": [
    "Q1. Create a python program to sort the given list of tuples based on integer value using a\n",
    "lambda function.\n",
    "[('Sachin Tendulkar', 34357), ('Ricky Ponting', 27483), ('Jack Kallis', 25534), ('Virat Kohli', 24936)]"
   ]
  },
  {
   "cell_type": "code",
   "execution_count": 3,
   "id": "aae20288-cfa6-4bd6-8db2-90c00f5a9d1b",
   "metadata": {},
   "outputs": [
    {
     "name": "stdout",
     "output_type": "stream",
     "text": [
      "('Virat Kohli', 24936)\n",
      "('Jack Kallis', 25534)\n",
      "('Ricky Ponting', 27483)\n",
      "('Sachin Tendulkar', 34357)\n"
     ]
    }
   ],
   "source": [
    "# Given list of tuples\n",
    "my_list = [('Sachin Tendulkar', 34357), ('Ricky Ponting', 27483), ('Jack Kallis', 25534), ('Virat Kohli', 24936)]\n",
    "\n",
    "# Sort the list based on the integer value using a lambda function\n",
    "sorted_list = sorted(my_list, key=lambda x: x[1])\n",
    "\n",
    "# Print the sorted list\n",
    "for item in sorted_list:\n",
    "    print(item)"
   ]
  },
  {
   "cell_type": "markdown",
   "id": "32886cb5-6a5a-440f-a53c-d48e6229539d",
   "metadata": {},
   "source": [
    "Q2. Write a Python Program to find the squares of all the numbers in the given list of integers using\n",
    "lambda and map functions.\n",
    "[1, 2, 3, 4, 5, 6, 7, 8, 9, 10]"
   ]
  },
  {
   "cell_type": "code",
   "execution_count": 4,
   "id": "414a30ef-c8a5-474c-a9d0-535758c91684",
   "metadata": {},
   "outputs": [
    {
     "name": "stdout",
     "output_type": "stream",
     "text": [
      "[1, 4, 9, 16, 25, 36, 49, 64, 81, 100]\n"
     ]
    }
   ],
   "source": [
    "# Given list of integers\n",
    "my_list = [1, 2, 3, 4, 5, 6, 7, 8, 9, 10]\n",
    "\n",
    "# Use lambda and map functions to find the squares\n",
    "squared_list = list(map(lambda x: x**2, my_list))\n",
    "\n",
    "# Print the squared list\n",
    "print(squared_list)"
   ]
  },
  {
   "cell_type": "markdown",
   "id": "ddbd8a9b-6f5c-4b23-b750-03eff8ed6a7b",
   "metadata": {},
   "source": [
    "Q3. Write a python program to convert the given list of integers into a tuple of strings. Use map and\n",
    "lambda functions\n",
    "Given String: [1, 2, 3, 4, 5, 6, 7, 8, 9, 10]\n",
    "Expected output: ('1', '2', '3', '4', '5', '6', '7', '8', '9', '10')"
   ]
  },
  {
   "cell_type": "code",
   "execution_count": 6,
   "id": "1248621f-993c-4b0a-9bf6-9ddda9b0274a",
   "metadata": {},
   "outputs": [
    {
     "name": "stdout",
     "output_type": "stream",
     "text": [
      "('1', '2', '3', '4', '5', '6', '7', '8', '9', '10')\n"
     ]
    }
   ],
   "source": [
    "# Given list of integers\n",
    "my_list = [1, 2, 3, 4, 5, 6, 7, 8, 9, 10]\n",
    "\n",
    "# Use lambda and map functions to convert the list to a tuple of strings\n",
    "tuple_of_strings = tuple(map(lambda x: str(x), my_list))\n",
    "\n",
    "# Print the tuple of strings\n",
    "print(tuple_of_strings)"
   ]
  },
  {
   "cell_type": "markdown",
   "id": "79d47211-bb2e-4233-a6f6-bd360e6fbc65",
   "metadata": {},
   "source": [
    "Q4. Write a python program using reduce function to compute the product of a list containing numbers\n",
    "from 1 to 25."
   ]
  },
  {
   "cell_type": "code",
   "execution_count": 7,
   "id": "9559ebb0-7123-40f1-942a-a65107fed070",
   "metadata": {},
   "outputs": [
    {
     "name": "stdout",
     "output_type": "stream",
     "text": [
      "15511210043330985984000000\n"
     ]
    }
   ],
   "source": [
    "from functools import reduce\n",
    "\n",
    "# Create a list of numbers from 1 to 25\n",
    "numbers = list(range(1, 26))\n",
    "\n",
    "# Use reduce() function to compute the product\n",
    "product = reduce(lambda x, y: x * y, numbers)\n",
    "\n",
    "# Print the product\n",
    "print(product)"
   ]
  },
  {
   "cell_type": "markdown",
   "id": "6ff38cf3-028c-4830-bd6b-72cd6c53eb60",
   "metadata": {},
   "source": [
    "Q5. Write a python program to filter the numbers in a given list that are divisible by 2 and 3 using the\n",
    "filter function.\n",
    "[2, 3, 6, 9, 27, 60, 90, 120, 55, 46]"
   ]
  },
  {
   "cell_type": "code",
   "execution_count": 8,
   "id": "813cc68b-ac08-4028-95eb-39b07d68cda5",
   "metadata": {},
   "outputs": [
    {
     "name": "stdout",
     "output_type": "stream",
     "text": [
      "[6, 60, 90, 120]\n"
     ]
    }
   ],
   "source": [
    "# Given list of numbers\n",
    "numbers = [2, 3, 6, 9, 27, 60, 90, 120, 55, 46]\n",
    "\n",
    "# Use filter() function to filter numbers divisible by 2 and 3\n",
    "filtered_numbers = list(filter(lambda x: x % 2 == 0 and x % 3 == 0, numbers))\n",
    "\n",
    "# Print the filtered numbers\n",
    "print(filtered_numbers)"
   ]
  },
  {
   "cell_type": "code",
   "execution_count": null,
   "id": "61c90ef8-4c19-4432-a1da-38362fc9de29",
   "metadata": {},
   "outputs": [],
   "source": []
  }
 ],
 "metadata": {
  "kernelspec": {
   "display_name": "Python 3 (ipykernel)",
   "language": "python",
   "name": "python3"
  },
  "language_info": {
   "codemirror_mode": {
    "name": "ipython",
    "version": 3
   },
   "file_extension": ".py",
   "mimetype": "text/x-python",
   "name": "python",
   "nbconvert_exporter": "python",
   "pygments_lexer": "ipython3",
   "version": "3.10.8"
  }
 },
 "nbformat": 4,
 "nbformat_minor": 5
}
