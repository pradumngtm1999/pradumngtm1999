{
 "cells": [
  {
   "cell_type": "markdown",
   "id": "f6af883c-01c8-408a-b426-efc6c38e7cf8",
   "metadata": {},
   "source": [
    "Q1. what is an exception in python? write the defference between exception and syntax errors."
   ]
  },
  {
   "cell_type": "markdown",
   "id": "1785622f-4a27-4607-b65d-ea7cb7dfa1dc",
   "metadata": {},
   "source": [
    "In Python, an exception is an event that occurs during the execution of a program that disrupts the normal flow of the program's instructions. When an exceptional situation arises, Python raises an exception, which is essentially an object containing information about the error. This allows the program to handle the error gracefully rather than abruptly crashing.\n",
    "\n",
    "There are various types of exceptions in Python, each representing a specific kind of error. Some common built-in exception types include TypeError, ValueError, IndexError, KeyError, and FileNotFoundError, among others. You can also create custom exceptions by deriving from the Exception class or its subclasses.\n",
    "\n",
    "Syntax errors, on the other hand, are a different category of issues. They occur when the code violates the syntactical rules of the programming language. These errors are detected by the Python interpreter before the code is executed and are usually related to issues like missing or mismatched parentheses, quotes, colons, or other structural elements.\n",
    "\n",
    "Here's a summary of the differences between exceptions and syntax errors:\n",
    "\n",
    "Nature of Occurrence:\n",
    "\n",
    "Exceptions: Occur during the execution of a program when an unexpected situation arises, such as dividing by zero or accessing an invalid index.\n",
    "Syntax Errors: Detected by the Python interpreter before execution due to incorrect syntax, such as missing parentheses or incorrect indentation.\n",
    "Timing:\n",
    "\n",
    "Exceptions: Arise during runtime when a specific condition is met, causing the normal flow of the program to be disrupted.\n",
    "Syntax Errors: Detected during the parsing phase before the code is executed.\n",
    "Handling:\n",
    "\n",
    "Exceptions: Can be handled using try and except blocks to gracefully handle errors and continue program execution.\n",
    "Syntax Errors: Cannot be handled using exception handling constructs since they prevent the code from being executed at all.\n",
    "Examples:\n",
    "\n",
    "Exception: ZeroDivisionError occurs when dividing by zero.\n",
    "Syntax Error: Missing a colon in an if statement (if condition instead of if condition:)."
   ]
  },
  {
   "cell_type": "markdown",
   "id": "2efce65a-da97-4579-a7c2-de873cc71cb6",
   "metadata": {},
   "source": [
    "Q2. what happens when an exception is not handled? example."
   ]
  },
  {
   "cell_type": "markdown",
   "id": "3fd765f5-acec-4b1e-9a1a-4897cbbce07b",
   "metadata": {},
   "source": [
    "When an exception is not handled in a program, it can lead to unintended and potentially problematic behavior. Let's go through an example to illustrate what happens when an exception is not handled:"
   ]
  },
  {
   "cell_type": "markdown",
   "id": "554a794b-b2ea-409f-bb52-325bb43afb1c",
   "metadata": {},
   "source": [
    "try:\n",
    "    num = int(input(\"Enter a number: \"))\n",
    "    result = 10 / num\n",
    "    print(\"Result:\", result)\n",
    "except ValueError:\n",
    "    print(\"Invalid input. Please enter a valid number.\")\n"
   ]
  },
  {
   "cell_type": "markdown",
   "id": "ed2f1b89-151c-4c26-ae9e-5c3fa7db10a4",
   "metadata": {},
   "source": [
    "In this example, the program tries to convert the user's input to an integer and then divides 10 by that number. If the user enters a valid number, the division proceeds smoothly, and the result is printed. If the user enters a non-numeric input, a ValueError is raised, and the program handles it by displaying an error message."
   ]
  },
  {
   "cell_type": "markdown",
   "id": "6eda6067-5231-4050-9829-846374ba238b",
   "metadata": {},
   "source": [
    "Q2. what happens when an exception is not handled? example.\n"
   ]
  },
  {
   "cell_type": "code",
   "execution_count": 5,
   "id": "8606b7c5-60ef-4a77-a9ce-a63d8791ae53",
   "metadata": {},
   "outputs": [
    {
     "name": "stdin",
     "output_type": "stream",
     "text": [
      "Enter a number:  20\n"
     ]
    },
    {
     "name": "stdout",
     "output_type": "stream",
     "text": [
      "Result: 0.5\n"
     ]
    }
   ],
   "source": [
    "try:\n",
    "    num = int(input(\"Enter a number: \"))\n",
    "    result = 10 / num\n",
    "    print(\"Result:\", result)\n",
    "except ValueError:\n",
    "    print(\"Invalid input. Please enter a valid number.\")\n"
   ]
  },
  {
   "cell_type": "code",
   "execution_count": 6,
   "id": "4da93cf8-1e7c-4dd2-a376-e9afa8eaa52e",
   "metadata": {},
   "outputs": [
    {
     "name": "stdin",
     "output_type": "stream",
     "text": [
      "Enter a number:  20\n"
     ]
    },
    {
     "name": "stdout",
     "output_type": "stream",
     "text": [
      "Result: 0.5\n"
     ]
    }
   ],
   "source": [
    "try:\n",
    "    num = int(input(\"Enter a number: \"))\n",
    "    result = 10 / num\n",
    "    print(\"Result:\", result)\n",
    "except ValueError:\n",
    "    print(\"Invalid input. Please enter a valid number.\")\n"
   ]
  },
  {
   "cell_type": "markdown",
   "id": "8911f489-b720-4810-a2fd-e5d4fec37261",
   "metadata": {},
   "source": [
    "\n",
    "Q3. which python statements are used to catch and handle exceptiom? explain with an example."
   ]
  },
  {
   "cell_type": "code",
   "execution_count": 11,
   "id": "ae34fbfd-8972-48eb-ae39-afc43f1e3e0e",
   "metadata": {},
   "outputs": [
    {
     "name": "stdin",
     "output_type": "stream",
     "text": [
      "Enter a number:  36364783298\n"
     ]
    },
    {
     "name": "stdout",
     "output_type": "stream",
     "text": [
      "Result: 2.749913265824406e-10\n"
     ]
    }
   ],
   "source": [
    "try:\n",
    "    num = int(input(\"Enter a number: \"))\n",
    "    result = 10 / num\n",
    "    print(\"Result:\", result)\n",
    "except ValueError:\n",
    "    print(\"Invalid input. Please enter a valid number.\")\n",
    "except ZeroDivisionError:\n",
    "    print(\"Cannot divide by zero.\")\n",
    "except Exception as e:\n",
    "    print(\"An unexpected error occurred:\", e)\n"
   ]
  },
  {
   "cell_type": "markdown",
   "id": "f8316af8-9bb0-4284-9fe1-057000d7a296",
   "metadata": {},
   "source": [
    "Q4. explain with an example:   \n",
    "a. try and else    \n",
    "b. finally\n",
    "c raise\n",
    "\n"
   ]
  },
  {
   "cell_type": "code",
   "execution_count": 12,
   "id": "d07abc6d-b3e9-4fae-9893-c215bf2d5a4b",
   "metadata": {},
   "outputs": [
    {
     "name": "stdin",
     "output_type": "stream",
     "text": [
      "Enter a number:  3454\n"
     ]
    },
    {
     "name": "stdout",
     "output_type": "stream",
     "text": [
      "Result: 0.0028951939779965257\n"
     ]
    }
   ],
   "source": [
    "try:\n",
    "    num = int(input(\"Enter a number: \"))\n",
    "    result = 10 / num\n",
    "except ValueError:\n",
    "    print(\"Invalid input. Please enter a valid number.\")\n",
    "except ZeroDivisionError:\n",
    "    print(\"Cannot divide by zero.\")\n",
    "else:\n",
    "    print(\"Result:\", result)\n"
   ]
  },
  {
   "cell_type": "code",
   "execution_count": 13,
   "id": "26b4bb2c-1ca1-4b2e-a4ae-2fb8ab3f9c64",
   "metadata": {},
   "outputs": [
    {
     "name": "stdout",
     "output_type": "stream",
     "text": [
      "File not found.\n"
     ]
    }
   ],
   "source": [
    "try:\n",
    "    file = open(\"example.txt\", \"r\")\n",
    "    content = file.read()\n",
    "except FileNotFoundError:\n",
    "    print(\"File not found.\")\n",
    "else:\n",
    "    print(\"File content:\", content)\n",
    "finally:\n",
    "    if 'file' in locals():\n",
    "        file.close()\n"
   ]
  },
  {
   "cell_type": "code",
   "execution_count": 14,
   "id": "ecea8aee-5425-4ecc-91c5-92a40c69822b",
   "metadata": {},
   "outputs": [
    {
     "name": "stdout",
     "output_type": "stream",
     "text": [
      "Error: Cannot divide by zero\n"
     ]
    }
   ],
   "source": [
    "def divide(x, y):\n",
    "    if y == 0:\n",
    "        raise ZeroDivisionError(\"Cannot divide by zero\")\n",
    "    return x / y\n",
    "\n",
    "try:\n",
    "    result = divide(10, 0)\n",
    "except ZeroDivisionError as e:\n",
    "    print(\"Error:\", e)\n"
   ]
  },
  {
   "cell_type": "markdown",
   "id": "99263b65-eabf-4031-973c-88c74a45936a",
   "metadata": {},
   "source": [
    "Q5. what are custom exception in python? why do we need custom exceptions?explain with an example."
   ]
  },
  {
   "cell_type": "code",
   "execution_count": 15,
   "id": "7df91eb7-41e9-412d-a67e-90821c6220d8",
   "metadata": {},
   "outputs": [
    {
     "name": "stdout",
     "output_type": "stream",
     "text": [
      "Insufficient funds: Available balance is 500, but 700 required.\n"
     ]
    }
   ],
   "source": [
    "class InsufficientFundsError(Exception):\n",
    "    def __init__(self, balance, amount):\n",
    "        self.balance = balance\n",
    "        self.amount = amount\n",
    "        self.message = f\"Insufficient funds: Available balance is {balance}, but {amount} required.\"\n",
    "\n",
    "def withdraw(balance, amount):\n",
    "    if amount > balance:\n",
    "        raise InsufficientFundsError(balance, amount)\n",
    "    return balance - amount\n",
    "\n",
    "try:\n",
    "    account_balance = 500\n",
    "    withdrawal_amount = 700\n",
    "    new_balance = withdraw(account_balance, withdrawal_amount)\n",
    "    print(\"Withdrawal successful. New balance:\", new_balance)\n",
    "except InsufficientFundsError as e:\n",
    "    print(e.message)\n"
   ]
  },
  {
   "cell_type": "markdown",
   "id": "795ed684-6c26-4d4f-bde6-568454b54ec3",
   "metadata": {},
   "source": [
    "Q6. create a custom exception class . use this class to handle an exception."
   ]
  },
  {
   "cell_type": "code",
   "execution_count": 17,
   "id": "81e03c68-fe6a-4d7e-beab-6d89f1edd5ea",
   "metadata": {},
   "outputs": [
    {
     "name": "stdin",
     "output_type": "stream",
     "text": [
      "Enter a positive number:  83475983\n"
     ]
    },
    {
     "name": "stdout",
     "output_type": "stream",
     "text": [
      "Processed result: 166951966\n"
     ]
    }
   ],
   "source": [
    "class CustomValueError(Exception):\n",
    "    def __init__(self, value):\n",
    "        self.value = value\n",
    "        self.message = f\"CustomValueError: Invalid value '{value}'\"\n",
    "\n",
    "def process_input(data):\n",
    "    if data < 0:\n",
    "        raise CustomValueError(data)\n",
    "    return data * 2\n",
    "\n",
    "try:\n",
    "    user_input = int(input(\"Enter a positive number: \"))\n",
    "    result = process_input(user_input)\n",
    "    print(\"Processed result:\", result)\n",
    "except CustomValueError as e:\n",
    "    print(e.message)\n"
   ]
  },
  {
   "cell_type": "code",
   "execution_count": null,
   "id": "7a8e5f88-a9ce-48f5-8ee6-307b05bf4a47",
   "metadata": {},
   "outputs": [],
   "source": []
  }
 ],
 "metadata": {
  "kernelspec": {
   "display_name": "Python 3 (ipykernel)",
   "language": "python",
   "name": "python3"
  },
  "language_info": {
   "codemirror_mode": {
    "name": "ipython",
    "version": 3
   },
   "file_extension": ".py",
   "mimetype": "text/x-python",
   "name": "python",
   "nbconvert_exporter": "python",
   "pygments_lexer": "ipython3",
   "version": "3.10.8"
  }
 },
 "nbformat": 4,
 "nbformat_minor": 5
}
