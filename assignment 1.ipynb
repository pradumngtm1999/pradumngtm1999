{
 "cells": [
  {
   "cell_type": "markdown",
   "id": "53b82b8a-ba3b-45bf-be6b-74b02acc7bf1",
   "metadata": {},
   "source": [
    "Q1. Create one variable containing following type of data:\n",
    "(i) string\n",
    "(ii) list\n",
    "(iii) float\n",
    "(iv) tuple\n"
   ]
  },
  {
   "cell_type": "code",
   "execution_count": 12,
   "id": "2b818c8e-1ec5-4b46-9ab7-fbf3801981a1",
   "metadata": {},
   "outputs": [
    {
     "data": {
      "text/plain": [
       "str"
      ]
     },
     "execution_count": 12,
     "metadata": {},
     "output_type": "execute_result"
    }
   ],
   "source": [
    "#STRING\n",
    "a = \"Hello world!\"\n",
    "\n",
    "type(a)"
   ]
  },
  {
   "cell_type": "code",
   "execution_count": 13,
   "id": "aa5f2b16-e742-489c-9be7-8d4443100bfa",
   "metadata": {},
   "outputs": [
    {
     "data": {
      "text/plain": [
       "list"
      ]
     },
     "execution_count": 13,
     "metadata": {},
     "output_type": "execute_result"
    }
   ],
   "source": [
    "#list\n",
    "a =  [1, 2, 3, 4, 5]\n",
    "type (a)\n"
   ]
  },
  {
   "cell_type": "code",
   "execution_count": 14,
   "id": "eb7771ef-3285-427c-ae14-50f6376bbe0d",
   "metadata": {},
   "outputs": [
    {
     "data": {
      "text/plain": [
       "float"
      ]
     },
     "execution_count": 14,
     "metadata": {},
     "output_type": "execute_result"
    }
   ],
   "source": [
    "#float\n",
    "a = 3.124\n",
    "type(a)"
   ]
  },
  {
   "cell_type": "code",
   "execution_count": 20,
   "id": "36b01b37-bc17-44a0-ae63-f0355d9216ac",
   "metadata": {},
   "outputs": [
    {
     "data": {
      "text/plain": [
       "tuple"
      ]
     },
     "execution_count": 20,
     "metadata": {},
     "output_type": "execute_result"
    }
   ],
   "source": [
    "#tuple\n",
    "a  =(1 , 2 , 3)\n",
    "type(a)"
   ]
  },
  {
   "cell_type": "markdown",
   "id": "efef6057-9b70-4bdf-8dde-6a035d15d87e",
   "metadata": {},
   "source": [
    "Q2. Given are some following variables containing data:(i) var1 = ‘ ‘\n",
    "(ii) var2 = ‘[ DS , ML , Python]’\n",
    "(iii) var3 = [ ‘DS’ , ’ML’ , ‘Python’ ]\n",
    "(iv) var4 = 1.\n",
    "What will be the data type of the above given variable."
   ]
  },
  {
   "cell_type": "code",
   "execution_count": 21,
   "id": "f7177266-8668-4c61-8520-23e8ef307440",
   "metadata": {},
   "outputs": [
    {
     "data": {
      "text/plain": [
       "str"
      ]
     },
     "execution_count": 21,
     "metadata": {},
     "output_type": "execute_result"
    }
   ],
   "source": [
    "#var1\n",
    "var1 = ''\n",
    "type(var1)"
   ]
  },
  {
   "cell_type": "code",
   "execution_count": 30,
   "id": "37186d49-d85d-47f4-9db1-2ba7c8e08476",
   "metadata": {},
   "outputs": [
    {
     "data": {
      "text/plain": [
       "list"
      ]
     },
     "execution_count": 30,
     "metadata": {},
     "output_type": "execute_result"
    }
   ],
   "source": [
    "#var2\n",
    "var2 = ['DS' , 'ML' , 'Python']\n",
    "type(var2)"
   ]
  },
  {
   "cell_type": "code",
   "execution_count": 32,
   "id": "29baacf8-5b26-48ae-8ffd-b0ee70875a7f",
   "metadata": {},
   "outputs": [
    {
     "data": {
      "text/plain": [
       "list"
      ]
     },
     "execution_count": 32,
     "metadata": {},
     "output_type": "execute_result"
    }
   ],
   "source": [
    "#var3\n",
    "var3 = ['DS' , 'ML' , 'Python' ] \n",
    "type(var3)"
   ]
  },
  {
   "cell_type": "code",
   "execution_count": 33,
   "id": "71426e74-ea01-47ac-a3a8-566fabaf9ffd",
   "metadata": {},
   "outputs": [
    {
     "data": {
      "text/plain": [
       "int"
      ]
     },
     "execution_count": 33,
     "metadata": {},
     "output_type": "execute_result"
    }
   ],
   "source": [
    "#var4\n",
    "var4 = 1\n",
    "type(var4)"
   ]
  },
  {
   "cell_type": "markdown",
   "id": "05d0c1ad-2ed9-461b-be51-a659e691e489",
   "metadata": {},
   "source": [
    "Q3. Explain the use of the following operators using an example:\n",
    "(i) /\n",
    "(ii) %\n",
    "(iii) //\n",
    "(iv) **"
   ]
  },
  {
   "cell_type": "code",
   "execution_count": 56,
   "id": "05d0f0b5-0552-485f-aabe-7a3fcf99621b",
   "metadata": {},
   "outputs": [],
   "source": [
    "#(i)\n",
    "a = 10\n",
    "b = 3\n",
    "result = a / b"
   ]
  },
  {
   "cell_type": "code",
   "execution_count": 55,
   "id": "1cf15620-dc43-42c4-930a-23b07bcbaaaa",
   "metadata": {},
   "outputs": [],
   "source": [
    "#(ii)\n",
    "a = 10\n",
    "b = 3\n",
    "result = a % b"
   ]
  },
  {
   "cell_type": "code",
   "execution_count": 38,
   "id": "07de04ef-1910-43c7-8e38-d025fe5d1feb",
   "metadata": {},
   "outputs": [],
   "source": [
    "#(iii)\n",
    "a = 10\n",
    "b = 3\n",
    "result = a // b"
   ]
  },
  {
   "cell_type": "code",
   "execution_count": 39,
   "id": "ace47afd-3235-475d-be44-afecf8c73369",
   "metadata": {},
   "outputs": [],
   "source": [
    "#(iv)\n",
    "a = 2\n",
    "b = 3\n",
    "result = a ** b"
   ]
  },
  {
   "cell_type": "markdown",
   "id": "d99f4acf-75ed-4975-8ec2-f2508c5f6d58",
   "metadata": {},
   "source": [
    "Q4. Create a list of length 10 of your choice containing multiple types of data. Using for loop print the\n",
    "element and its data type.\n"
   ]
  },
  {
   "cell_type": "code",
   "execution_count": 41,
   "id": "66be7920-6cc9-48e8-97e9-8588cce8d8bf",
   "metadata": {},
   "outputs": [],
   "source": [
    "my_list = [1, 'Hello', 3.14, True, [1, 2, 3], {'name': 'John', 'age': 25}, (4, 5, 6), None, False, 'World']\n",
    "\n"
   ]
  },
  {
   "cell_type": "markdown",
   "id": "0600f596-1cc3-436f-b8e0-a50eef030700",
   "metadata": {},
   "source": [
    "Q5. Using a while loop, verify if the number A is purely divisible by number B and if so then how many\n",
    "times it can be divisible."
   ]
  },
  {
   "cell_type": "code",
   "execution_count": 45,
   "id": "b3e38c68-7fed-4f32-a9cb-9226a47715d9",
   "metadata": {},
   "outputs": [],
   "source": [
    "A = 42  # The number to be divided\n",
    "B = 7   # The divisor\n",
    "\n",
    "count = 0   # Variable to count the number of divisions\n",
    "\n",
    "while A % B == 0:\n",
    "    A /= B\n",
    "    count += 1\n",
    "\n"
   ]
  },
  {
   "cell_type": "markdown",
   "id": "4e63bead-a52f-47eb-b775-0c8938b11da0",
   "metadata": {},
   "source": [
    "Q6. Create a list containing 25 int type data. Using for loop and if-else condition print if the element is\n",
    "divisible by 3 or not."
   ]
  },
  {
   "cell_type": "code",
   "execution_count": null,
   "id": "09a142cb-f6a3-40a6-bc42-5e11bcc835e0",
   "metadata": {},
   "outputs": [],
   "source": [
    "my_list = [2, 5, 9, 12, 18, 21, 25, 30, 33, 36, 42, 45, 50, 55, 60, 63, 66, 70, 75, 80, 85, 90, 93, 98, 100]\n",
    "\n",
    "for num in my_list:\n",
    "    if num % 3 == 0:\n",
    "        print(f\"{num} is divisible by 3\")\n",
    "    else:\n",
    "        print(f\"{num} is not divisible by 3\")\n",
    "    \n",
    "    "
   ]
  },
  {
   "cell_type": "markdown",
   "id": "27bf43b1-852f-4cef-a993-22120ac1a115",
   "metadata": {},
   "source": [
    "Q7. What do you understand about mutable and immutable data types? Give examples for both showing\n",
    "this property."
   ]
  },
  {
   "cell_type": "code",
   "execution_count": null,
   "id": "aedf6894-f5f8-4099-8527-631b00de04a9",
   "metadata": {},
   "outputs": [],
   "source": [
    "my_dict = {'name': 'John', 'age': 25}\n",
    "print(my_dict)  # Output: {'name': 'John', 'age': 25}\n",
    "my_dict['age'] = 26  # Modifying the value of 'age'\n",
    "print(my_dict)  # Output: {'name': 'John', 'age': 26}"
   ]
  },
  {
   "cell_type": "code",
   "execution_count": null,
   "id": "d323d5b3-b895-405a-842e-c553c360b714",
   "metadata": {},
   "outputs": [],
   "source": [
    "x = 5\n",
    "print(x)  # Output: 5\n",
    "x += 1  # Trying to modify the value of x\n",
    "print(x)  # Output: 6"
   ]
  },
  {
   "cell_type": "code",
   "execution_count": null,
   "id": "c5277dba-e939-4522-afc6-5d1c762283fd",
   "metadata": {},
   "outputs": [],
   "source": []
  }
 ],
 "metadata": {
  "kernelspec": {
   "display_name": "Python 3 (ipykernel)",
   "language": "python",
   "name": "python3"
  },
  "language_info": {
   "codemirror_mode": {
    "name": "ipython",
    "version": 3
   },
   "file_extension": ".py",
   "mimetype": "text/x-python",
   "name": "python",
   "nbconvert_exporter": "python",
   "pygments_lexer": "ipython3",
   "version": "3.10.8"
  }
 },
 "nbformat": 4,
 "nbformat_minor": 5
}
