{
 "cells": [
  {
   "cell_type": "markdown",
   "id": "2c56c906-e22e-4d06-ae16-14927c124584",
   "metadata": {},
   "source": [
    "Q1. What is MongoDB? Explain non-relational databases in short. In which scenarios it is preferred to use\n",
    "MongoDB over SQL databases?"
   ]
  },
  {
   "cell_type": "markdown",
   "id": "b64f910b-bb87-463d-9e89-6a9f9b534928",
   "metadata": {},
   "source": [
    "MongoDB is a popular, open-source, NoSQL (non-relational) database management system. It is designed to store and manage large volumes of data, especially unstructured or semi-structured data, and is often used in modern web applications, big data, and real-time processing. MongoDB stores data in a flexible, JSON-like format called BSON (Binary JSON), which allows for dynamic schemas and scalability.\n",
    "\n",
    "Non-relational databases, also known as NoSQL databases, are a type of database management system that do not follow the traditional relational database model, which uses tables with rows and columns. Instead, non-relational databases use various data models, such as key-value, document-oriented, column-family, or graph, to store and manage data. They are more flexible and scalable than traditional relational databases, making them suitable for different types of applications and data structures.\n",
    "\n",
    "Scenarios where MongoDB is preferred over SQL databases:\n",
    "\n",
    "Flexible Schema: MongoDB's document-oriented approach allows you to store data with varying structures in the same collection (table). This flexibility is ideal for applications with evolving or dynamic schemas, such as content management systems or projects where data requirements change frequently.\n",
    "\n",
    "Scalability: MongoDB is designed for horizontal scalability, making it a good choice for applications that require handling a massive amount of data or high traffic loads. You can easily distribute data across multiple servers or clusters to handle increased workloads.\n",
    "\n",
    "Unstructured Data: If your application deals with semi-structured or unstructured data like JSON or XML, MongoDB's support for these data formats can simplify data storage and retrieval.\n",
    "\n",
    "Real-time Data Processing: MongoDB's ability to handle real-time data makes it suitable for applications like IoT (Internet of Things), social media, and live analytics where data needs to be processed and analyzed in real-time.\n",
    "\n",
    "High Write Throughput: MongoDB can handle a high volume of write operations efficiently, making it a good choice for logging and tracking applications.\n",
    "\n",
    "Geospatial Data: MongoDB has built-in support for geospatial data and queries, making it an excellent choice for location-based applications.\n",
    "\n",
    "Complex Queries: MongoDB's query language supports complex queries and can handle a wide range of query types, including those involving nested documents and arrays.\n",
    "\n",
    "Development Speed: MongoDB's flexible schema and document-oriented model can accelerate development, especially in agile environments where requirements change frequently.\n",
    "\n",
    "Open Source: MongoDB is open source, which means it's free to use and has a vibrant community and ecosystem."
   ]
  },
  {
   "cell_type": "markdown",
   "id": "33c5c3c4-6314-49e5-b95a-c6cf9d6aace5",
   "metadata": {},
   "source": [
    "Q2. State and Explain the features of MongoDB."
   ]
  },
  {
   "cell_type": "markdown",
   "id": "f5485852-8f7e-43e7-b69b-50bf111383f0",
   "metadata": {},
   "source": [
    "\n",
    "MongoDB offers a wide range of features that make it a popular choice for many applications. Here are some key features of MongoDB:\n",
    "\n",
    "Document-Oriented: MongoDB stores data in flexible, JSON-like documents called BSON. These documents can contain nested arrays and subdocuments, making it easy to represent complex data structures.\n",
    "\n",
    "NoSQL: MongoDB is a NoSQL database, meaning it does not use a traditional relational schema. This flexibility allows you to adapt your data model as your application evolves.\n",
    "\n",
    "Schema-less: MongoDB does not enforce a fixed schema, which means you can add fields to documents on the fly without affecting existing data. This is particularly useful in scenarios where data structures are constantly changing.\n",
    "\n",
    "Highly Scalable: MongoDB can scale horizontally across multiple servers or clusters to handle large amounts of data and high traffic loads. It supports automatic sharding for distributing data across nodes.\n",
    "\n",
    "Replication: MongoDB offers built-in replication for high availability and fault tolerance. You can configure replica sets, where data is automatically replicated to multiple servers, ensuring data redundancy and failover capabilities.\n",
    "\n",
    "Aggregation Framework: MongoDB provides a powerful aggregation framework that allows you to perform complex data transformations and analytics operations directly in the database.\n",
    "\n",
    "Geospatial Data Support: MongoDB has native support for geospatial data and queries, making it suitable for location-based applications and geospatial analysis.\n",
    "\n",
    "Indexing: MongoDB supports various types of indexes, including compound indexes, geospatial indexes, and text indexes, which can significantly improve query performance.\n",
    "\n",
    "Ad Hoc Queries: You can run ad hoc queries on MongoDB using a flexible query language. It supports queries on document fields, arrays, and subdocuments.\n",
    "\n",
    "JSON/BSON Data Format: MongoDB stores data in BSON (Binary JSON), which is a binary-encoded format that allows for efficient storage and retrieval of JSON-like documents.\n",
    "\n",
    "Full-Text Search: MongoDB offers full-text search capabilities, enabling you to search for text content within your documents.\n",
    "\n",
    "Security: MongoDB provides robust security features, including authentication, authorization, SSL/TLS encryption, and auditing to protect your data.\n",
    "\n",
    "Horizontal Scaling: MongoDB can distribute data across multiple servers or clusters, making it highly scalable and suitable for applications with growing data volumes.\n",
    "\n",
    "Community and Ecosystem: MongoDB has a large and active community, along with a rich ecosystem of drivers, libraries, and tools for various programming languages.\n",
    "\n",
    "ACID Transactions: Starting from MongoDB version 4.0, it supports multi-document ACID transactions, allowing you to perform complex transactions that involve multiple documents.\n",
    "\n",
    "Change Streams: MongoDB's change streams allow you to monitor changes in the database in real-time, enabling features like real-time data synchronization and event-driven architectures.\n",
    "\n",
    "Cross-Platform Compatibility: MongoDB is available on various platforms and can be deployed on-premises or in the cloud, making it versatile and adaptable to different deployment scenarios."
   ]
  },
  {
   "cell_type": "markdown",
   "id": "830d0dc4-63b1-436b-8f4e-f5d00c77a255",
   "metadata": {},
   "source": [
    "Q3. Write a code to connect MongoDB to Python. Also, create a database and a collection in MongoDB."
   ]
  },
  {
   "cell_type": "code",
   "execution_count": 1,
   "id": "de1e161c-bdda-4e68-b709-991bec43c98a",
   "metadata": {},
   "outputs": [
    {
     "ename": "ModuleNotFoundError",
     "evalue": "No module named 'pymongo'",
     "output_type": "error",
     "traceback": [
      "\u001b[0;31m---------------------------------------------------------------------------\u001b[0m",
      "\u001b[0;31mModuleNotFoundError\u001b[0m                       Traceback (most recent call last)",
      "Cell \u001b[0;32mIn[1], line 1\u001b[0m\n\u001b[0;32m----> 1\u001b[0m \u001b[38;5;28;01mimport\u001b[39;00m \u001b[38;5;21;01mpymongo\u001b[39;00m\n\u001b[1;32m      3\u001b[0m \u001b[38;5;66;03m# Replace these variables with your MongoDB connection details\u001b[39;00m\n\u001b[1;32m      4\u001b[0m mongo_url \u001b[38;5;241m=\u001b[39m \u001b[38;5;124m\"\u001b[39m\u001b[38;5;124mmongodb://localhost:27017/\u001b[39m\u001b[38;5;124m\"\u001b[39m  \u001b[38;5;66;03m# Connection URL\u001b[39;00m\n",
      "\u001b[0;31mModuleNotFoundError\u001b[0m: No module named 'pymongo'"
     ]
    }
   ],
   "source": [
    "import pymongo\n",
    "\n",
    "# Replace these variables with your MongoDB connection details\n",
    "mongo_url = \"mongodb://localhost:27017/\"  # Connection URL\n",
    "database_name = \"mydatabase\"  # Database name\n",
    "collection_name = \"mycollection\"  # Collection name\n",
    "\n",
    "# Connect to MongoDB\n",
    "try:\n",
    "    client = pymongo.MongoClient(mongo_url)\n",
    "    print(\"Connected successfully to MongoDB\")\n",
    "except pymongo.errors.ConnectionFailure as e:\n",
    "    print(f\"Could not connect to MongoDB: {e}\")\n",
    "    exit()\n",
    "\n",
    "# Create or access the database\n",
    "database = client[database_name]\n",
    "\n",
    "# Create or access the collection\n",
    "collection = database[collection_name]\n",
    "\n",
    "# Check if the collection already exists\n",
    "if collection_name in database.list_collection_names():\n",
    "    print(f\"Collection '{collection_name}' already exists in database '{database_name}'\")\n",
    "else:\n",
    "    print(f\"Collection '{collection_name}' does not exist in database '{database_name}'\")\n",
    "\n",
    "# Close the MongoDB connection when you're done\n",
    "client.close()\n"
   ]
  },
  {
   "cell_type": "markdown",
   "id": "84752d28-0599-4f03-aade-2d094a408b28",
   "metadata": {},
   "source": [
    "Q4. Using the database and the collection created in question number 3, write a code to insert one record,\n",
    "and insert many records. Use the find() and find_one() methods to print the inserted record."
   ]
  },
  {
   "cell_type": "code",
   "execution_count": 2,
   "id": "4022f183-8b32-4c55-bfa3-dc3c8964ae1f",
   "metadata": {},
   "outputs": [
    {
     "ename": "ModuleNotFoundError",
     "evalue": "No module named 'pymongo'",
     "output_type": "error",
     "traceback": [
      "\u001b[0;31m---------------------------------------------------------------------------\u001b[0m",
      "\u001b[0;31mModuleNotFoundError\u001b[0m                       Traceback (most recent call last)",
      "Cell \u001b[0;32mIn[2], line 1\u001b[0m\n\u001b[0;32m----> 1\u001b[0m \u001b[38;5;28;01mimport\u001b[39;00m \u001b[38;5;21;01mpymongo\u001b[39;00m\n\u001b[1;32m      3\u001b[0m \u001b[38;5;66;03m# Replace these variables with your MongoDB connection details\u001b[39;00m\n\u001b[1;32m      4\u001b[0m mongo_url \u001b[38;5;241m=\u001b[39m \u001b[38;5;124m\"\u001b[39m\u001b[38;5;124mmongodb://localhost:27017/\u001b[39m\u001b[38;5;124m\"\u001b[39m\n",
      "\u001b[0;31mModuleNotFoundError\u001b[0m: No module named 'pymongo'"
     ]
    }
   ],
   "source": [
    "import pymongo\n",
    "\n",
    "# Replace these variables with your MongoDB connection details\n",
    "mongo_url = \"mongodb://localhost:27017/\"\n",
    "database_name = \"mydatabase\"\n",
    "collection_name = \"mycollection\"\n",
    "\n",
    "# Define sample data for insertion\n",
    "single_record = {\"name\": \"John\", \"age\": 30}\n",
    "multiple_records = [\n",
    "    {\"name\": \"Alice\", \"age\": 25},\n",
    "    {\"name\": \"Bob\", \"age\": 28},\n",
    "    {\"name\": \"Charlie\", \"age\": 35}\n",
    "]\n",
    "\n",
    "# Connect to MongoDB\n",
    "try:\n",
    "    client = pymongo.MongoClient(mongo_url)\n",
    "    print(\"Connected successfully to MongoDB\")\n",
    "except pymongo.errors.ConnectionFailure as e:\n",
    "    print(f\"Could not connect to MongoDB: {e}\")\n",
    "    exit()\n",
    "\n",
    "# Access the specified database and collection\n",
    "database = client[database_name]\n",
    "collection = database[collection_name]\n",
    "\n",
    "# Insert a single record\n",
    "result = collection.insert_one(single_record)\n",
    "print(f\"Inserted record ID: {result.inserted_id}\")\n",
    "\n",
    "# Insert multiple records\n",
    "results = collection.insert_many(multiple_records)\n",
    "print(f\"Inserted {len(results.inserted_ids)} records\")\n",
    "\n",
    "# Find and print a single record using find_one()\n",
    "found_record = collection.find_one({\"name\": \"John\"})\n",
    "if found_record:\n",
    "    print(\"Found a record:\")\n",
    "    print(found_record)\n",
    "else:\n",
    "    print(\"Record not found\")\n",
    "\n",
    "# Find and print all records using find()\n",
    "all_records = collection.find()\n",
    "print(\"All records:\")\n",
    "for record in all_records:\n",
    "    print(record)\n",
    "\n",
    "# Close the MongoDB connection\n",
    "client.close()\n"
   ]
  },
  {
   "cell_type": "markdown",
   "id": "fb731615-f056-4809-9e44-e1a5d6fe23b7",
   "metadata": {},
   "source": [
    "Q5. Explain how you can use the find() method to query the MongoDB database. Write a simple code to\n",
    "demonstrate this."
   ]
  },
  {
   "cell_type": "code",
   "execution_count": 3,
   "id": "5c580455-162a-4eab-9210-232fd2aa5510",
   "metadata": {},
   "outputs": [
    {
     "ename": "ModuleNotFoundError",
     "evalue": "No module named 'pymongo'",
     "output_type": "error",
     "traceback": [
      "\u001b[0;31m---------------------------------------------------------------------------\u001b[0m",
      "\u001b[0;31mModuleNotFoundError\u001b[0m                       Traceback (most recent call last)",
      "Cell \u001b[0;32mIn[3], line 1\u001b[0m\n\u001b[0;32m----> 1\u001b[0m \u001b[38;5;28;01mimport\u001b[39;00m \u001b[38;5;21;01mpymongo\u001b[39;00m\n\u001b[1;32m      3\u001b[0m \u001b[38;5;66;03m# Replace these variables with your MongoDB connection details\u001b[39;00m\n\u001b[1;32m      4\u001b[0m mongo_url \u001b[38;5;241m=\u001b[39m \u001b[38;5;124m\"\u001b[39m\u001b[38;5;124mmongodb://localhost:27017/\u001b[39m\u001b[38;5;124m\"\u001b[39m\n",
      "\u001b[0;31mModuleNotFoundError\u001b[0m: No module named 'pymongo'"
     ]
    }
   ],
   "source": [
    "import pymongo\n",
    "\n",
    "# Replace these variables with your MongoDB connection details\n",
    "mongo_url = \"mongodb://localhost:27017/\"\n",
    "database_name = \"mydatabase\"\n",
    "collection_name = \"mycollection\"\n",
    "\n",
    "# Connect to MongoDB\n",
    "try:\n",
    "    client = pymongo.MongoClient(mongo_url)\n",
    "    print(\"Connected successfully to MongoDB\")\n",
    "except pymongo.errors.ConnectionFailure as e:\n",
    "    print(f\"Could not connect to MongoDB: {e}\")\n",
    "    exit()\n",
    "\n",
    "# Access the specified database and collection\n",
    "database = client[database_name]\n",
    "collection = database[collection_name]\n",
    "\n",
    "# Define a filter criteria (optional)\n",
    "filter_criteria = {\"age\": {\"$gte\": 25}}  # Find documents where age is greater than or equal to 25\n",
    "\n",
    "# Use the find() method to query the collection\n",
    "result_cursor = collection.find(filter_criteria)\n",
    "\n",
    "# Loop through the cursor and print the matching documents\n",
    "print(\"Matching documents:\")\n",
    "for document in result_cursor:\n",
    "    print(document)\n",
    "\n",
    "# Close the MongoDB connection\n",
    "client.close()\n"
   ]
  },
  {
   "cell_type": "markdown",
   "id": "4d5511f7-59a4-49e0-8d65-c890d508d816",
   "metadata": {},
   "source": [
    "Q6. Explain the sort() method. Give an example to demonstrate sorting in MongoDB."
   ]
  },
  {
   "cell_type": "code",
   "execution_count": 4,
   "id": "f614ce50-7e4e-4242-b7f7-61deb7e0022b",
   "metadata": {},
   "outputs": [
    {
     "ename": "ModuleNotFoundError",
     "evalue": "No module named 'pymongo'",
     "output_type": "error",
     "traceback": [
      "\u001b[0;31m---------------------------------------------------------------------------\u001b[0m",
      "\u001b[0;31mModuleNotFoundError\u001b[0m                       Traceback (most recent call last)",
      "Cell \u001b[0;32mIn[4], line 1\u001b[0m\n\u001b[0;32m----> 1\u001b[0m \u001b[38;5;28;01mimport\u001b[39;00m \u001b[38;5;21;01mpymongo\u001b[39;00m\n\u001b[1;32m      3\u001b[0m \u001b[38;5;66;03m# Replace these variables with your MongoDB connection details\u001b[39;00m\n\u001b[1;32m      4\u001b[0m mongo_url \u001b[38;5;241m=\u001b[39m \u001b[38;5;124m\"\u001b[39m\u001b[38;5;124mmongodb://localhost:27017/\u001b[39m\u001b[38;5;124m\"\u001b[39m\n",
      "\u001b[0;31mModuleNotFoundError\u001b[0m: No module named 'pymongo'"
     ]
    }
   ],
   "source": [
    "import pymongo\n",
    "\n",
    "# Replace these variables with your MongoDB connection details\n",
    "mongo_url = \"mongodb://localhost:27017/\"\n",
    "database_name = \"mydatabase\"\n",
    "collection_name = \"mycollection\"\n",
    "\n",
    "# Connect to MongoDB\n",
    "try:\n",
    "    client = pymongo.MongoClient(mongo_url)\n",
    "    print(\"Connected successfully to MongoDB\")\n",
    "except pymongo.errors.ConnectionFailure as e:\n",
    "    print(f\"Could not connect to MongoDB: {e}\")\n",
    "    exit()\n",
    "\n",
    "# Access the specified database and collection\n",
    "database = client[database_name]\n",
    "collection = database[collection_name]\n",
    "\n",
    "# Use the sort() method to retrieve documents sorted by age in descending order\n",
    "sort_key = \"age\"\n",
    "direction = pymongo.DESCENDING  # Sort in descending order\n",
    "result_cursor = collection.find().sort(sort_key, direction)\n",
    "\n",
    "# Loop through the cursor and print the sorted documents\n",
    "print(\"Sorted documents (by age, descending order):\")\n",
    "for document in result_cursor:\n",
    "    print(document)\n",
    "\n",
    "# Close the MongoDB connection\n",
    "client.close()\n"
   ]
  },
  {
   "cell_type": "markdown",
   "id": "ccb56de9-3663-4842-a25d-65a68bd002d9",
   "metadata": {},
   "source": [
    "Q7. Explain why delete_one(), delete_many(), and drop() is used."
   ]
  },
  {
   "cell_type": "code",
   "execution_count": 5,
   "id": "b9d1ad34-7f0b-4c24-a519-481713ebe232",
   "metadata": {},
   "outputs": [
    {
     "ename": "NameError",
     "evalue": "name 'collection' is not defined",
     "output_type": "error",
     "traceback": [
      "\u001b[0;31m---------------------------------------------------------------------------\u001b[0m",
      "\u001b[0;31mNameError\u001b[0m                                 Traceback (most recent call last)",
      "Cell \u001b[0;32mIn[5], line 1\u001b[0m\n\u001b[0;32m----> 1\u001b[0m result \u001b[38;5;241m=\u001b[39m \u001b[43mcollection\u001b[49m\u001b[38;5;241m.\u001b[39mdelete_one(\u001b[38;5;28mfilter\u001b[39m)\n",
      "\u001b[0;31mNameError\u001b[0m: name 'collection' is not defined"
     ]
    }
   ],
   "source": [
    "result = collection.delete_one(filter)\n"
   ]
  },
  {
   "cell_type": "code",
   "execution_count": 6,
   "id": "0e954eaa-4df5-4391-809a-97bb750e437e",
   "metadata": {},
   "outputs": [
    {
     "ename": "NameError",
     "evalue": "name 'collection' is not defined",
     "output_type": "error",
     "traceback": [
      "\u001b[0;31m---------------------------------------------------------------------------\u001b[0m",
      "\u001b[0;31mNameError\u001b[0m                                 Traceback (most recent call last)",
      "Cell \u001b[0;32mIn[6], line 2\u001b[0m\n\u001b[1;32m      1\u001b[0m \u001b[38;5;66;03m# Delete a single document with the name \"Alice\"\u001b[39;00m\n\u001b[0;32m----> 2\u001b[0m result \u001b[38;5;241m=\u001b[39m \u001b[43mcollection\u001b[49m\u001b[38;5;241m.\u001b[39mdelete_one({\u001b[38;5;124m\"\u001b[39m\u001b[38;5;124mname\u001b[39m\u001b[38;5;124m\"\u001b[39m: \u001b[38;5;124m\"\u001b[39m\u001b[38;5;124mAlice\u001b[39m\u001b[38;5;124m\"\u001b[39m})\n",
      "\u001b[0;31mNameError\u001b[0m: name 'collection' is not defined"
     ]
    }
   ],
   "source": [
    "# Delete a single document with the name \"Alice\"\n",
    "result = collection.delete_one({\"name\": \"Alice\"})\n"
   ]
  },
  {
   "cell_type": "code",
   "execution_count": 7,
   "id": "91edc0db-8d84-4335-9cc8-dcfd49bfc221",
   "metadata": {},
   "outputs": [
    {
     "ename": "NameError",
     "evalue": "name 'collection' is not defined",
     "output_type": "error",
     "traceback": [
      "\u001b[0;31m---------------------------------------------------------------------------\u001b[0m",
      "\u001b[0;31mNameError\u001b[0m                                 Traceback (most recent call last)",
      "Cell \u001b[0;32mIn[7], line 1\u001b[0m\n\u001b[0;32m----> 1\u001b[0m result \u001b[38;5;241m=\u001b[39m \u001b[43mcollection\u001b[49m\u001b[38;5;241m.\u001b[39mdelete_many(\u001b[38;5;28mfilter\u001b[39m)\n",
      "\u001b[0;31mNameError\u001b[0m: name 'collection' is not defined"
     ]
    }
   ],
   "source": [
    "result = collection.delete_many(filter)\n"
   ]
  },
  {
   "cell_type": "code",
   "execution_count": 8,
   "id": "9d89e842-8588-48b3-9d83-0f65cf82afc6",
   "metadata": {},
   "outputs": [
    {
     "ename": "NameError",
     "evalue": "name 'collection' is not defined",
     "output_type": "error",
     "traceback": [
      "\u001b[0;31m---------------------------------------------------------------------------\u001b[0m",
      "\u001b[0;31mNameError\u001b[0m                                 Traceback (most recent call last)",
      "Cell \u001b[0;32mIn[8], line 2\u001b[0m\n\u001b[1;32m      1\u001b[0m \u001b[38;5;66;03m# Delete all documents with age greater than or equal to 30\u001b[39;00m\n\u001b[0;32m----> 2\u001b[0m result \u001b[38;5;241m=\u001b[39m \u001b[43mcollection\u001b[49m\u001b[38;5;241m.\u001b[39mdelete_many({\u001b[38;5;124m\"\u001b[39m\u001b[38;5;124mage\u001b[39m\u001b[38;5;124m\"\u001b[39m: {\u001b[38;5;124m\"\u001b[39m\u001b[38;5;124m$gte\u001b[39m\u001b[38;5;124m\"\u001b[39m: \u001b[38;5;241m30\u001b[39m}})\n",
      "\u001b[0;31mNameError\u001b[0m: name 'collection' is not defined"
     ]
    }
   ],
   "source": [
    "# Delete all documents with age greater than or equal to 30\n",
    "result = collection.delete_many({\"age\": {\"$gte\": 30}})\n"
   ]
  },
  {
   "cell_type": "code",
   "execution_count": 9,
   "id": "2d951729-a0e4-4fd2-a12b-a2c029989cfa",
   "metadata": {},
   "outputs": [
    {
     "ename": "NameError",
     "evalue": "name 'collection' is not defined",
     "output_type": "error",
     "traceback": [
      "\u001b[0;31m---------------------------------------------------------------------------\u001b[0m",
      "\u001b[0;31mNameError\u001b[0m                                 Traceback (most recent call last)",
      "Cell \u001b[0;32mIn[9], line 1\u001b[0m\n\u001b[0;32m----> 1\u001b[0m \u001b[43mcollection\u001b[49m\u001b[38;5;241m.\u001b[39mdrop()\n",
      "\u001b[0;31mNameError\u001b[0m: name 'collection' is not defined"
     ]
    }
   ],
   "source": [
    "collection.drop()\n"
   ]
  },
  {
   "cell_type": "code",
   "execution_count": 10,
   "id": "1a2cb319-a8c7-43cc-a055-6206d8c2795c",
   "metadata": {},
   "outputs": [
    {
     "ename": "NameError",
     "evalue": "name 'collection' is not defined",
     "output_type": "error",
     "traceback": [
      "\u001b[0;31m---------------------------------------------------------------------------\u001b[0m",
      "\u001b[0;31mNameError\u001b[0m                                 Traceback (most recent call last)",
      "Cell \u001b[0;32mIn[10], line 2\u001b[0m\n\u001b[1;32m      1\u001b[0m \u001b[38;5;66;03m# Delete the entire \"mycollection\" collection\u001b[39;00m\n\u001b[0;32m----> 2\u001b[0m \u001b[43mcollection\u001b[49m\u001b[38;5;241m.\u001b[39mdrop()\n",
      "\u001b[0;31mNameError\u001b[0m: name 'collection' is not defined"
     ]
    }
   ],
   "source": [
    "# Delete the entire \"mycollection\" collection\n",
    "collection.drop()\n"
   ]
  },
  {
   "cell_type": "code",
   "execution_count": null,
   "id": "77d56d05-3285-4232-89c6-e0696e8ba88f",
   "metadata": {},
   "outputs": [],
   "source": []
  }
 ],
 "metadata": {
  "kernelspec": {
   "display_name": "Python 3 (ipykernel)",
   "language": "python",
   "name": "python3"
  },
  "language_info": {
   "codemirror_mode": {
    "name": "ipython",
    "version": 3
   },
   "file_extension": ".py",
   "mimetype": "text/x-python",
   "name": "python",
   "nbconvert_exporter": "python",
   "pygments_lexer": "ipython3",
   "version": "3.10.8"
  }
 },
 "nbformat": 4,
 "nbformat_minor": 5
}
