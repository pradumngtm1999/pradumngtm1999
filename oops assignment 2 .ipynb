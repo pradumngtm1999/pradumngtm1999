{
 "cells": [
  {
   "cell_type": "markdown",
   "id": "52bb357b-d7dd-4bcf-ad29-8240dae40a3e",
   "metadata": {},
   "source": [
    "Q1. What is Abstraction in OOps? Explain with an example. "
   ]
  },
  {
   "cell_type": "markdown",
   "id": "93111d65-8408-42b7-af41-9c8e4957e7e3",
   "metadata": {},
   "source": [
    "Abstraction is a fundamental concept in object-oriented programming (OOP) that allows you to simplify complex reality by modeling classes based on real-world objects and their interactions."
   ]
  },
  {
   "cell_type": "code",
   "execution_count": 6,
   "id": "5df09c18-88a1-4988-8786-0eab5d123a6d",
   "metadata": {},
   "outputs": [
    {
     "name": "stdout",
     "output_type": "stream",
     "text": [
      "Toyota Camry's engine started.\n",
      "Toyota Camry's engine stopped.\n",
      "\n",
      "Harley-Davidson Sportster's engine started.\n",
      "Harley-Davidson Sportster's engine stopped.\n",
      "\n",
      "Yamaha 242X's engine started.\n",
      "Yamaha 242X's engine stopped.\n",
      "\n"
     ]
    }
   ],
   "source": [
    "from abc import ABC, abstractmethod\n",
    "\n",
    "\n",
    "class Vehicle(ABC):  # Abstract base class\n",
    "    def __init__(self, brand, model):\n",
    "        self.brand = brand\n",
    "        self.model = model\n",
    "\n",
    "    @abstractmethod\n",
    "    def start_engine(self):\n",
    "        pass\n",
    "\n",
    "    @abstractmethod\n",
    "    def stop_engine(self):\n",
    "        pass\n",
    "\n",
    "class Car(Vehicle):\n",
    "    def start_engine(self):\n",
    "        return f\"{self.brand} {self.model}'s engine started.\"\n",
    "\n",
    "    def stop_engine(self):\n",
    "        return f\"{self.brand} {self.model}'s engine stopped.\"\n",
    "\n",
    "class Motorcycle(Vehicle):\n",
    "    def start_engine(self):\n",
    "        return f\"{self.brand} {self.model}'s engine started.\"\n",
    "\n",
    "    def stop_engine(self):\n",
    "        return f\"{self.brand} {self.model}'s engine stopped.\"\n",
    "\n",
    "class Boat(Vehicle):\n",
    "    def start_engine(self):\n",
    "        return f\"{self.brand} {self.model}'s engine started.\"\n",
    "\n",
    "    def stop_engine(self):\n",
    "        return f\"{self.brand} {self.model}'s engine stopped.\"\n",
    "\n",
    "# Main program\n",
    "car = Car(\"Toyota\", \"Camry\")\n",
    "motorcycle = Motorcycle(\"Harley-Davidson\", \"Sportster\")\n",
    "boat = Boat(\"Yamaha\", \"242X\")\n",
    "\n",
    "vehicles = [car, motorcycle, boat]\n",
    "\n",
    "for vehicle in vehicles:\n",
    "    print(vehicle.start_engine())\n",
    "    print(vehicle.stop_engine())\n",
    "    print()\n"
   ]
  },
  {
   "cell_type": "markdown",
   "id": "90a3256e-c4e5-44f3-b271-76cc06d86435",
   "metadata": {},
   "source": [
    "Q2. Differentiate between Abstraction and Encapsulation. Explain with an example."
   ]
  },
  {
   "cell_type": "markdown",
   "id": "0c3bef9f-8f3b-488b-9172-8c37414c1cf3",
   "metadata": {},
   "source": [
    "Abstraction:\n",
    "Abstraction is the process of simplifying complex reality by modeling classes based on real-world objects and their interactions. It focuses on defining the essential characteristics of an object while hiding the unnecessary details. Abstraction helps in managing complexity, improving code reusability, and maintaining a clear separation between what an object does and how it does it.\n",
    "\n",
    "Encapsulation:\n",
    "Encapsulation is the practice of bundling data (attributes) and the methods (functions) that operate on the data into a single unit, known as a class. It involves the concept of access modifiers (such as public, private, and protected) to control the visibility and access of the attributes and methods. Encapsulation helps in data hiding, preventing unauthorized access, and providing a controlled interface to interact with an object."
   ]
  },
  {
   "cell_type": "code",
   "execution_count": 7,
   "id": "9e3f4935-1c7a-4d07-a0a8-a6e7e9a2af81",
   "metadata": {},
   "outputs": [
    {
     "name": "stdout",
     "output_type": "stream",
     "text": [
      "Account Balance: 1300\n"
     ]
    }
   ],
   "source": [
    "class BankAccount:\n",
    "    def __init__(self, account_number, balance):\n",
    "        self.account_number = account_number  # Public attribute\n",
    "        self.__balance = balance  # Private attribute\n",
    "\n",
    "    def deposit(self, amount):\n",
    "        if amount > 0:\n",
    "            self.__balance += amount\n",
    "\n",
    "    def withdraw(self, amount):\n",
    "        if 0 < amount <= self.__balance:\n",
    "            self.__balance -= amount\n",
    "\n",
    "    def get_balance(self):\n",
    "        return self.__balance\n",
    "\n",
    "# Main program\n",
    "account = BankAccount(\"12345\", 1000)\n",
    "\n",
    "# Abstraction: Using the public interface without worrying about implementation details\n",
    "account.deposit(500)\n",
    "account.withdraw(200)\n",
    "\n",
    "# Encapsulation: Accessing private attribute through public methods\n",
    "print(\"Account Balance:\", account.get_balance())\n"
   ]
  },
  {
   "cell_type": "markdown",
   "id": "3e3eb17b-19c8-4c96-9c43-5712acb0693a",
   "metadata": {},
   "source": [
    "Q3. What is abc module in python? Why is it used?"
   ]
  },
  {
   "cell_type": "code",
   "execution_count": 8,
   "id": "e4fec7a5-7285-4039-83d2-1686c1f14ae8",
   "metadata": {},
   "outputs": [
    {
     "name": "stdout",
     "output_type": "stream",
     "text": [
      "Circle Area: 78.5\n",
      "Rectangle Area: 24\n"
     ]
    }
   ],
   "source": [
    "from abc import ABC, abstractmethod\n",
    "\n",
    "class Shape(ABC):\n",
    "    @abstractmethod\n",
    "    def area(self):\n",
    "        pass\n",
    "\n",
    "class Circle(Shape):\n",
    "    def __init__(self, radius):\n",
    "        self.radius = radius\n",
    "\n",
    "    def area(self):\n",
    "        return 3.14 * self.radius ** 2\n",
    "\n",
    "class Rectangle(Shape):\n",
    "    def __init__(self, width, height):\n",
    "        self.width = width\n",
    "        self.height = height\n",
    "\n",
    "    def area(self):\n",
    "        return self.width * self.height\n",
    "\n",
    "# Attempting to instantiate Shape directly will raise a TypeError\n",
    "# shape = Shape()\n",
    "\n",
    "circle = Circle(5)\n",
    "rectangle = Rectangle(4, 6)\n",
    "\n",
    "print(\"Circle Area:\", circle.area())\n",
    "print(\"Rectangle Area:\", rectangle.area())\n"
   ]
  },
  {
   "cell_type": "markdown",
   "id": "775c73de-602e-4a53-bac0-4462183c8a8c",
   "metadata": {},
   "source": [
    "Q4. How can we achieve data abstraction?"
   ]
  },
  {
   "cell_type": "markdown",
   "id": "6933a213-e18e-45db-ac56-cc66847fde99",
   "metadata": {},
   "source": [
    "Encapsulation:\n",
    "Encapsulation involves bundling data (attributes) and the methods (functions) that operate on the data into a single unit, often referred to as a class. By controlling the visibility of attributes and methods using access modifiers (such as public, private, and protected), you can hide the internal details from outside access."
   ]
  },
  {
   "cell_type": "code",
   "execution_count": 10,
   "id": "95af8a1c-736e-45a7-8305-c95703c5a33e",
   "metadata": {},
   "outputs": [],
   "source": [
    "class BankAccount:\n",
    "    def __init__(self, account_number, balance):\n",
    "        self.account_number = account_number  # Public attribute\n",
    "        self.__balance = balance  # Private attribute\n",
    "\n",
    "    def get_balance(self):\n",
    "        return self.__balance\n",
    "\n",
    "account = BankAccount(\"12345\", 1000)\n",
    "balance = account.get_balance()\n"
   ]
  },
  {
   "cell_type": "markdown",
   "id": "43b1d228-51a0-476d-9ed8-a4f1affbbd3a",
   "metadata": {},
   "source": [
    "Abstract Base Classes (ABCs):\n",
    "Python's abc module allows you to create abstract base classes that define a common interface for subclasses. Abstract methods declared in these classes do not have implementations in the base class and must be overridden by subclasses, ensuring consistent behavior."
   ]
  },
  {
   "cell_type": "code",
   "execution_count": 11,
   "id": "58a83756-2207-45f3-88d1-977140677c13",
   "metadata": {},
   "outputs": [],
   "source": [
    "from abc import ABC, abstractmethod\n",
    "\n",
    "class Shape(ABC):\n",
    "    @abstractmethod\n",
    "    def area(self):\n",
    "        pass\n",
    "\n",
    "class Circle(Shape):\n",
    "    def __init__(self, radius):\n",
    "        self.radius = radius\n",
    "\n",
    "    def area(self):\n",
    "        return 3.14 * self.radius ** 2\n"
   ]
  },
  {
   "cell_type": "markdown",
   "id": "7f25b4bf-d4da-4b15-86a6-77b52b67d165",
   "metadata": {},
   "source": [
    "Q5. Can we create an instance of an abstract class? Explain your answer."
   ]
  },
  {
   "cell_type": "code",
   "execution_count": null,
   "id": "5043ee9a-f2f0-4dab-ba74-5e6ef7911413",
   "metadata": {},
   "outputs": [],
   "source": [
    "No, you cannot directly create an instance of an abstract class in most object-oriented programming languages. An abstract class is a class that cannot be instantiated on its own because it's intended to serve as a blueprint for other classes. It contains one or more abstract methods, which are methods without a defined implementation in the abstract class itself.\n",
    "\n",
    "The purpose of an abstract class is to provide a common structure and behavior that should be shared by its subclasses. Subclasses derived from an abstract class are required to provide concrete implementations for the abstract methods declared in the abstract class.\n",
    "\n",
    "Attempting to create an instance of an abstract class would result in a compilation error or runtime error, depending on the programming language. Instead, you create instances of concrete subclasses that extend the abstract class. These subclasses provide the missing implementations for the abstract methods, making them suitable for instantiation.\n",
    "\n",
    "In summary, abstract classes are meant to be inherited from and serve as a base for other classes, but they themselves cannot be instantiated."
   ]
  }
 ],
 "metadata": {
  "kernelspec": {
   "display_name": "Python 3 (ipykernel)",
   "language": "python",
   "name": "python3"
  },
  "language_info": {
   "codemirror_mode": {
    "name": "ipython",
    "version": 3
   },
   "file_extension": ".py",
   "mimetype": "text/x-python",
   "name": "python",
   "nbconvert_exporter": "python",
   "pygments_lexer": "ipython3",
   "version": "3.10.8"
  }
 },
 "nbformat": 4,
 "nbformat_minor": 5
}
