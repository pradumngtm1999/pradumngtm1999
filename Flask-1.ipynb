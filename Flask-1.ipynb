{
 "cells": [
  {
   "cell_type": "markdown",
   "id": "aa2a3bdd-aff4-4136-9212-2aec3f12d255",
   "metadata": {},
   "source": [
    "Q1. What is Flask Framework? What are the advantages of Flask Framework?"
   ]
  },
  {
   "cell_type": "markdown",
   "id": "a7d68273-572d-4bea-b096-c3e49956ffe7",
   "metadata": {},
   "source": [
    "Flask is a micro web framework for Python that is used to develop web applications. It is known for its simplicity and minimalism, providing the essential tools and libraries to build web applications without imposing a rigid structure or dependencies. Here are some key features and advantages of Flask:\n",
    "\n",
    "Minimalistic: Flask follows the \"micro\" philosophy, which means it provides only the essentials for building web applications. This minimalistic approach gives developers more flexibility in choosing components and libraries, allowing them to build applications tailored to their specific needs.\n",
    "\n",
    "Lightweight: Flask has a small codebase and a low learning curve. This makes it a great choice for developers who want to quickly prototype or build small to medium-sized web applications.\n",
    "\n",
    "Extensible: While Flask provides a basic set of features, it is highly extensible. Developers can easily add extensions and third-party libraries to enhance functionality, such as database integration, authentication, and more.\n",
    "\n",
    "Flexibility: Flask does not enforce a specific project structure or architecture. This flexibility allows developers to design their application's structure according to their preferences, making it suitable for a wide range of projects.\n",
    "\n",
    "Built-in Development Server: Flask comes with a built-in development server, making it easy to test and debug applications during the development process.\n",
    "\n",
    "Jinja2 Templating: Flask uses the Jinja2 templating engine, which allows developers to create dynamic HTML templates, making it easier to generate HTML content based on data from the application.\n",
    "\n",
    "Werkzeug Integration: Flask is built on top of the Werkzeug WSGI (Web Server Gateway Interface) library, which provides a solid foundation for handling HTTP requests and responses.\n",
    "\n",
    "Community and Ecosystem: Flask has a vibrant community and a wide range of extensions and plugins available, making it easier to find solutions for various web development needs.\n",
    "\n",
    "RESTful Support: Flask is well-suited for building RESTful APIs, making it a popular choice for developing web services and backend systems for mobile applications and single-page applications (SPAs).\n",
    "\n",
    "Good Documentation: Flask has well-documented official documentation, tutorials, and a supportive community, which can be valuable resources for developers getting started with the framework."
   ]
  },
  {
   "cell_type": "markdown",
   "id": "61d45303-a72f-429f-b111-5c19b7bc782c",
   "metadata": {},
   "source": [
    "Q2. Create a simple Flask application to display ‘Hello World!!’. Attach the screenshot of the output in\n",
    "Jupyter Notebook."
   ]
  },
  {
   "cell_type": "code",
   "execution_count": 1,
   "id": "7d71c1d8-d1c4-4553-a8f8-98d74b447d5b",
   "metadata": {},
   "outputs": [
    {
     "ename": "ModuleNotFoundError",
     "evalue": "No module named 'flask'",
     "output_type": "error",
     "traceback": [
      "\u001b[0;31m---------------------------------------------------------------------------\u001b[0m",
      "\u001b[0;31mModuleNotFoundError\u001b[0m                       Traceback (most recent call last)",
      "Cell \u001b[0;32mIn[1], line 1\u001b[0m\n\u001b[0;32m----> 1\u001b[0m \u001b[38;5;28;01mfrom\u001b[39;00m \u001b[38;5;21;01mflask\u001b[39;00m \u001b[38;5;28;01mimport\u001b[39;00m Flask\n\u001b[1;32m      3\u001b[0m app \u001b[38;5;241m=\u001b[39m Flask(\u001b[38;5;18m__name__\u001b[39m)\n\u001b[1;32m      5\u001b[0m \u001b[38;5;129m@app\u001b[39m\u001b[38;5;241m.\u001b[39mroute(\u001b[38;5;124m\"\u001b[39m\u001b[38;5;124m/\u001b[39m\u001b[38;5;124m\"\u001b[39m)\n\u001b[1;32m      6\u001b[0m \u001b[38;5;28;01mdef\u001b[39;00m \u001b[38;5;21mhello_world\u001b[39m():\n",
      "\u001b[0;31mModuleNotFoundError\u001b[0m: No module named 'flask'"
     ]
    }
   ],
   "source": [
    "from flask import Flask\n",
    "\n",
    "app = Flask(__name__)\n",
    "\n",
    "@app.route(\"/\")\n",
    "def hello_world():\n",
    "    return \"<h1>Hello, World!</h1>\"\n",
    "\n",
    "if __name__==\"__main__\":\n",
    "    app.run(host=\"0.0.0.0\")\n"
   ]
  },
  {
   "cell_type": "markdown",
   "id": "6c8b5f4d-fe89-4f51-89e2-051bdf09e65e",
   "metadata": {},
   "source": [
    "Q3. What is App routing in Flask? Why do we use app routes?"
   ]
  },
  {
   "cell_type": "markdown",
   "id": "a4c30a20-65a0-4133-a378-93d55a36c22e",
   "metadata": {},
   "source": [
    "In Flask, app routing refers to the process of defining URL routes or endpoints for your web application. These routes determine how the application responds to incoming HTTP requests from clients (e.g., web browsers). The routes are associated with specific Python functions, which are executed when a request is made to a matching URL. App routing is a fundamental concept in Flask and is accomplished using the @app.route() decorator."
   ]
  },
  {
   "cell_type": "code",
   "execution_count": 2,
   "id": "a3534ce2-b957-4c83-af5f-cf6d569bd500",
   "metadata": {},
   "outputs": [
    {
     "ename": "ModuleNotFoundError",
     "evalue": "No module named 'flask'",
     "output_type": "error",
     "traceback": [
      "\u001b[0;31m---------------------------------------------------------------------------\u001b[0m",
      "\u001b[0;31mModuleNotFoundError\u001b[0m                       Traceback (most recent call last)",
      "Cell \u001b[0;32mIn[2], line 1\u001b[0m\n\u001b[0;32m----> 1\u001b[0m \u001b[38;5;28;01mfrom\u001b[39;00m \u001b[38;5;21;01mflask\u001b[39;00m \u001b[38;5;28;01mimport\u001b[39;00m Flask\n\u001b[1;32m      3\u001b[0m app \u001b[38;5;241m=\u001b[39m Flask(\u001b[38;5;18m__name__\u001b[39m)\n\u001b[1;32m      5\u001b[0m \u001b[38;5;66;03m# Define a route for the root URL (\"/\")\u001b[39;00m\n",
      "\u001b[0;31mModuleNotFoundError\u001b[0m: No module named 'flask'"
     ]
    }
   ],
   "source": [
    "from flask import Flask\n",
    "\n",
    "app = Flask(__name__)\n",
    "\n",
    "# Define a route for the root URL (\"/\")\n",
    "@app.route('/')\n",
    "def home():\n",
    "    return 'Welcome to the homepage!'\n",
    "\n",
    "# Define a route for \"/about\"\n",
    "@app.route('/about')\n",
    "def about():\n",
    "    return 'This is the about page.'\n",
    "\n",
    "if __name__ == '__main__':\n",
    "    app.run()\n"
   ]
  },
  {
   "cell_type": "markdown",
   "id": "8ef586f0-170d-4ce9-83dc-e497d13ad944",
   "metadata": {},
   "source": [
    "Q4. Create a “/welcome” route to display the welcome message “Welcome to ABC Corporation” and a “/”\n",
    "route to show the following details:\n",
    "Company Name: ABC Corporation\n",
    "Location: India\n",
    "Contact Detail: 999-999-9999\n",
    "Attach the screenshot of the output in Jupyter Notebook."
   ]
  },
  {
   "cell_type": "code",
   "execution_count": 1,
   "id": "168524af-4115-4635-88d0-853143257ed7",
   "metadata": {},
   "outputs": [
    {
     "ename": "ModuleNotFoundError",
     "evalue": "No module named 'flask'",
     "output_type": "error",
     "traceback": [
      "\u001b[0;31m---------------------------------------------------------------------------\u001b[0m",
      "\u001b[0;31mModuleNotFoundError\u001b[0m                       Traceback (most recent call last)",
      "Cell \u001b[0;32mIn[1], line 1\u001b[0m\n\u001b[0;32m----> 1\u001b[0m \u001b[38;5;28;01mfrom\u001b[39;00m \u001b[38;5;21;01mflask\u001b[39;00m \u001b[38;5;28;01mimport\u001b[39;00m Flask\n\u001b[1;32m      3\u001b[0m app \u001b[38;5;241m=\u001b[39m Flask(\u001b[38;5;18m__name__\u001b[39m)\n\u001b[1;32m      6\u001b[0m \u001b[38;5;129m@app\u001b[39m\u001b[38;5;241m.\u001b[39mroute(\u001b[38;5;124m'\u001b[39m\u001b[38;5;124m/Welcome\u001b[39m\u001b[38;5;124m'\u001b[39m)\n\u001b[1;32m      7\u001b[0m \u001b[38;5;28;01mdef\u001b[39;00m \u001b[38;5;21mwelcome\u001b[39m():\n",
      "\u001b[0;31mModuleNotFoundError\u001b[0m: No module named 'flask'"
     ]
    }
   ],
   "source": [
    "from flask import Flask\n",
    "\n",
    "app = Flask(__name__)\n",
    "\n",
    "\n",
    "@app.route('/Welcome')\n",
    "def welcome():\n",
    "    return 'Welcome to ABC Corporation'\n",
    "\n",
    "\n",
    "@app.route('/')\n",
    "def company_details():\n",
    "    return '''\n",
    "    Company Name: ABC Corporation\n",
    "    Location: India\n",
    "    Contact Detail: 999-999-9999\n",
    "    '''\n",
    "\n",
    "if __name__ == '__main__':\n",
    "    app.run()\n"
   ]
  },
  {
   "cell_type": "markdown",
   "id": "9c63138f-ba7d-4937-9677-50efc94bcc8b",
   "metadata": {},
   "source": [
    "Q5. What function is used in Flask for URL Building? Write a Python code to demonstrate the working of the\n",
    "url_for() function."
   ]
  },
  {
   "cell_type": "markdown",
   "id": "f96162ad-e01f-419d-9a6c-8640cc561232",
   "metadata": {},
   "source": [
    "In Flask, the url_for() function is used for URL building. It generates a URL for a given view function, using the view function's name as an argument. This is a useful feature because it allows you to change the URL structure of your application without having to manually update URLs in your templates and code."
   ]
  },
  {
   "cell_type": "code",
   "execution_count": 2,
   "id": "5f5c203c-2db4-4950-9e2d-3ffb233338c7",
   "metadata": {},
   "outputs": [
    {
     "ename": "ModuleNotFoundError",
     "evalue": "No module named 'flask'",
     "output_type": "error",
     "traceback": [
      "\u001b[0;31m---------------------------------------------------------------------------\u001b[0m",
      "\u001b[0;31mModuleNotFoundError\u001b[0m                       Traceback (most recent call last)",
      "Cell \u001b[0;32mIn[2], line 1\u001b[0m\n\u001b[0;32m----> 1\u001b[0m \u001b[38;5;28;01mfrom\u001b[39;00m \u001b[38;5;21;01mflask\u001b[39;00m \u001b[38;5;28;01mimport\u001b[39;00m Flask, url_for\n\u001b[1;32m      3\u001b[0m app \u001b[38;5;241m=\u001b[39m Flask(\u001b[38;5;18m__name__\u001b[39m)\n\u001b[1;32m      5\u001b[0m \u001b[38;5;66;03m# Define two routes with different names\u001b[39;00m\n",
      "\u001b[0;31mModuleNotFoundError\u001b[0m: No module named 'flask'"
     ]
    }
   ],
   "source": [
    "from flask import Flask, url_for\n",
    "\n",
    "app = Flask(__name__)\n",
    "\n",
    "# Define two routes with different names\n",
    "@app.route('/')\n",
    "def home():\n",
    "    return 'Welcome to the home page!'\n",
    "\n",
    "@app.route('/about')\n",
    "def about():\n",
    "    return 'This is the about page.'\n",
    "\n",
    "# Create a route that uses the url_for() function to generate URLs\n",
    "@app.route('/link')\n",
    "def link():\n",
    "    # Generate URLs for the 'home' and 'about' routes\n",
    "    home_url = url_for('home')\n",
    "    about_url = url_for('about')\n",
    "\n",
    "    # Create HTML links to the home and about pages\n",
    "    return f'<a href=\"{home_url}\">Go to Home</a><br><a href=\"{about_url}\">Go to About</a>'\n",
    "\n",
    "if __name__ == '__main__':\n",
    "    app.run()\n"
   ]
  },
  {
   "cell_type": "code",
   "execution_count": null,
   "id": "85ffea36-3953-477f-a8b4-5c732091620c",
   "metadata": {},
   "outputs": [],
   "source": []
  }
 ],
 "metadata": {
  "kernelspec": {
   "display_name": "Python 3 (ipykernel)",
   "language": "python",
   "name": "python3"
  },
  "language_info": {
   "codemirror_mode": {
    "name": "ipython",
    "version": 3
   },
   "file_extension": ".py",
   "mimetype": "text/x-python",
   "name": "python",
   "nbconvert_exporter": "python",
   "pygments_lexer": "ipython3",
   "version": "3.10.8"
  }
 },
 "nbformat": 4,
 "nbformat_minor": 5
}
