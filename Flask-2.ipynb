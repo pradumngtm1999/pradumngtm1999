{
 "cells": [
  {
   "cell_type": "markdown",
   "id": "7152784e-4d8a-421f-8143-9b2f9c9b2eb7",
   "metadata": {},
   "source": [
    "Q1. Explain GET and POST methods."
   ]
  },
  {
   "cell_type": "markdown",
   "id": "69d81fc0-8488-423f-8a93-d88fb4e0fdb4",
   "metadata": {},
   "source": [
    "GET Method:\n",
    "\n",
    "Purpose: The GET method is used to request data from a specified resource. It retrieves data without making any changes to the server's state.\n",
    "\n",
    "Data in URL: Data is appended to the URL as query parameters. For example, in a URL like https://example.com/resource?param1=value1&param2=value2, the parameters and their values are sent as part of the URL.\n",
    "\n",
    "Visibility: Data is visible in the URL, which means it can be seen in the browser's address bar and may get logged in server logs. It's not suitable for sensitive data or large amounts of data.\n",
    "\n",
    "Caching: GET requests can be cached by browsers and intermediaries (like proxy servers), which can improve performance but might lead to data being cached when it shouldn't be.\n",
    "\n",
    "Idempotent: GET requests are considered idempotent, meaning that making the same GET request multiple times should have the same effect as making it once.\n",
    "\n",
    "Safe: GET requests are considered safe, as they should not have any side effects on the server.\n",
    "\n",
    "Examples: Retrieving a web page, fetching search results, viewing an image, etc.\n",
    "\n",
    "POST Method:\n",
    "\n",
    "Purpose: The POST method is used to submit data to be processed by the specified resource. It's used when you want to send data to the server to create, update, or modify a resource on the server.\n",
    "\n",
    "Data in Body: Data is sent in the body of the HTTP request, rather than as part of the URL. This allows for sending larger amounts of data and is not visible in the URL.\n",
    "\n",
    "Security: POST requests are more secure for sensitive data because the data is not visible in the URL or in server logs.\n",
    "\n",
    "Not Cached: POST requests are typically not cached, as they are expected to change server state, and caching could lead to unintended side effects.\n",
    "\n",
    "Not Idempotent: POST requests are not idempotent. Making the same POST request multiple times can result in different outcomes on the server, especially if it involves creating or modifying resources.\n",
    "\n",
    "Not Safe: POST requests are not considered safe because they can modify server state.\n",
    "\n",
    "Examples: Submitting a form, creating a new user account, uploading a file, making a purchase in an online store, etc."
   ]
  },
  {
   "cell_type": "markdown",
   "id": "a034e058-a8f8-4ecf-903a-b6b040d5fbb9",
   "metadata": {},
   "source": [
    "Q2. Why is request used in Flask?"
   ]
  },
  {
   "cell_type": "markdown",
   "id": "329a51aa-e4ac-49a1-93ad-60f812c42459",
   "metadata": {},
   "source": [
    "In Flask, the request object is used to access and manipulate incoming HTTP request data, such as form data, query parameters, headers, and more. It provides a convenient way to interact with the data that a client (usually a web browser) sends to the server when making a request. The request object is a crucial component of handling user input and building dynamic web applications. Here are some common uses of the request object in Flask:\n",
    "\n",
    "Accessing Form Data: When a user submits an HTML form, the data from that form is sent to the server in the HTTP request body. The request object allows you to access this data, making it easy to process and validate user inputs.\n",
    "\n",
    "Query Parameters: In many cases, clients send additional data as part of the URL's query parameters. The request object allows you to access these parameters, which can be useful for filtering data or customizing the behavior of your application.\n",
    "\n",
    "Headers: HTTP headers provide metadata about the request, such as the user agent, content type, and authentication credentials. You can use the request object to access these headers, enabling you to make decisions based on the client's environment.\n",
    "\n",
    "File Uploads: When users upload files through a form, the request object provides a way to access the uploaded files, allowing you to process and store them as needed.\n",
    "\n",
    "Cookies: You can use the request object to work with cookies sent by the client. This is often used for session management and user authentication.\n",
    "\n",
    "HTTP Methods: The request object allows you to determine which HTTP method (GET, POST, PUT, DELETE, etc.) was used in the request. This information is crucial for routing requests to the appropriate functions in your Flask application."
   ]
  },
  {
   "cell_type": "code",
   "execution_count": 1,
   "id": "32e1289a-0051-441f-9455-d2430d3569b3",
   "metadata": {},
   "outputs": [
    {
     "ename": "ModuleNotFoundError",
     "evalue": "No module named 'flask'",
     "output_type": "error",
     "traceback": [
      "\u001b[0;31m---------------------------------------------------------------------------\u001b[0m",
      "\u001b[0;31mModuleNotFoundError\u001b[0m                       Traceback (most recent call last)",
      "Cell \u001b[0;32mIn[1], line 1\u001b[0m\n\u001b[0;32m----> 1\u001b[0m \u001b[38;5;28;01mfrom\u001b[39;00m \u001b[38;5;21;01mflask\u001b[39;00m \u001b[38;5;28;01mimport\u001b[39;00m Flask, request\n\u001b[1;32m      3\u001b[0m app \u001b[38;5;241m=\u001b[39m Flask(\u001b[38;5;18m__name__\u001b[39m)\n\u001b[1;32m      5\u001b[0m \u001b[38;5;129m@app\u001b[39m\u001b[38;5;241m.\u001b[39mroute(\u001b[38;5;124m'\u001b[39m\u001b[38;5;124m/submit\u001b[39m\u001b[38;5;124m'\u001b[39m, methods\u001b[38;5;241m=\u001b[39m[\u001b[38;5;124m'\u001b[39m\u001b[38;5;124mPOST\u001b[39m\u001b[38;5;124m'\u001b[39m])\n\u001b[1;32m      6\u001b[0m \u001b[38;5;28;01mdef\u001b[39;00m \u001b[38;5;21msubmit\u001b[39m():\n",
      "\u001b[0;31mModuleNotFoundError\u001b[0m: No module named 'flask'"
     ]
    }
   ],
   "source": [
    "from flask import Flask, request\n",
    "\n",
    "app = Flask(__name__)\n",
    "\n",
    "@app.route('/submit', methods=['POST'])\n",
    "def submit():\n",
    "    if request.method == 'POST':\n",
    "        # Access form data sent by the client\n",
    "        username = request.form['username']\n",
    "        password = request.form['password']\n",
    "        \n",
    "        # Process the data (e.g., perform authentication)\n",
    "        # ...\n",
    "\n",
    "        return f'Username: {username}, Password: {password}'\n",
    "\n",
    "if __name__ == '__main__':\n",
    "    app.run()\n"
   ]
  },
  {
   "cell_type": "markdown",
   "id": "21d806a3-e739-4f86-a0a6-032919859d86",
   "metadata": {},
   "source": [
    "Q3. Why is redirect() used in Flask?"
   ]
  },
  {
   "cell_type": "code",
   "execution_count": 2,
   "id": "d4210f64-89ed-443b-b61b-02a069e80e5b",
   "metadata": {},
   "outputs": [
    {
     "ename": "ModuleNotFoundError",
     "evalue": "No module named 'flask'",
     "output_type": "error",
     "traceback": [
      "\u001b[0;31m---------------------------------------------------------------------------\u001b[0m",
      "\u001b[0;31mModuleNotFoundError\u001b[0m                       Traceback (most recent call last)",
      "Cell \u001b[0;32mIn[2], line 1\u001b[0m\n\u001b[0;32m----> 1\u001b[0m \u001b[38;5;28;01mfrom\u001b[39;00m \u001b[38;5;21;01mflask\u001b[39;00m \u001b[38;5;28;01mimport\u001b[39;00m Flask, redirect, url_for\n\u001b[1;32m      3\u001b[0m app \u001b[38;5;241m=\u001b[39m Flask(\u001b[38;5;18m__name__\u001b[39m)\n\u001b[1;32m      5\u001b[0m \u001b[38;5;66;03m# Define a route that redirects to another route\u001b[39;00m\n",
      "\u001b[0;31mModuleNotFoundError\u001b[0m: No module named 'flask'"
     ]
    }
   ],
   "source": [
    "from flask import Flask, redirect, url_for\n",
    "\n",
    "app = Flask(__name__)\n",
    "\n",
    "# Define a route that redirects to another route\n",
    "@app.route('/')\n",
    "def home():\n",
    "    return 'Welcome to the home page!'\n",
    "\n",
    "@app.route('/about')\n",
    "def about():\n",
    "    return 'This is the about page.'\n",
    "\n",
    "@app.route('/redirect')\n",
    "def redirect_example():\n",
    "    # Redirect the user to the 'about' route\n",
    "    return redirect(url_for('about'))\n",
    "\n",
    "if __name__ == '__main__':\n",
    "    app.run()\n",
    "\n",
    "    "
   ]
  },
  {
   "cell_type": "markdown",
   "id": "09df8be6-5674-486d-a8b4-f1d42b83a62e",
   "metadata": {},
   "source": [
    "Q4. What are templates in Flask? Why is the render_template() function used?"
   ]
  },
  {
   "cell_type": "code",
   "execution_count": 3,
   "id": "33e95251-92c9-4242-9134-fee59cd8134b",
   "metadata": {},
   "outputs": [
    {
     "ename": "ModuleNotFoundError",
     "evalue": "No module named 'flask'",
     "output_type": "error",
     "traceback": [
      "\u001b[0;31m---------------------------------------------------------------------------\u001b[0m",
      "\u001b[0;31mModuleNotFoundError\u001b[0m                       Traceback (most recent call last)",
      "Cell \u001b[0;32mIn[3], line 1\u001b[0m\n\u001b[0;32m----> 1\u001b[0m \u001b[38;5;28;01mfrom\u001b[39;00m \u001b[38;5;21;01mflask\u001b[39;00m \u001b[38;5;28;01mimport\u001b[39;00m Flask, render_template\n\u001b[1;32m      3\u001b[0m app \u001b[38;5;241m=\u001b[39m Flask(\u001b[38;5;18m__name__\u001b[39m)\n\u001b[1;32m      5\u001b[0m \u001b[38;5;129m@app\u001b[39m\u001b[38;5;241m.\u001b[39mroute(\u001b[38;5;124m'\u001b[39m\u001b[38;5;124m/\u001b[39m\u001b[38;5;124m'\u001b[39m)\n\u001b[1;32m      6\u001b[0m \u001b[38;5;28;01mdef\u001b[39;00m \u001b[38;5;21mhome\u001b[39m():\n\u001b[1;32m      7\u001b[0m     \u001b[38;5;66;03m# Data to be passed to the template\u001b[39;00m\n",
      "\u001b[0;31mModuleNotFoundError\u001b[0m: No module named 'flask'"
     ]
    }
   ],
   "source": [
    "from flask import Flask, render_template\n",
    "\n",
    "app = Flask(__name__)\n",
    "\n",
    "@app.route('/')\n",
    "def home():\n",
    "    # Data to be passed to the template\n",
    "    message = 'Welcome to my Flask app!'\n",
    "    return render_template('index.html', message=message)\n",
    "\n",
    "if __name__ == '__main__':\n",
    "    app.run()\n"
   ]
  },
  {
   "cell_type": "markdown",
   "id": "372f7152-cc4c-495b-9635-defc4a6a8769",
   "metadata": {},
   "source": [
    "Q5. Create a simple API. Use Postman to test it. Attach the screenshot of the output in the Jupyter Notebook."
   ]
  },
  {
   "cell_type": "code",
   "execution_count": 4,
   "id": "288d3463-6f2f-4ac2-b6ae-0576d2f3f640",
   "metadata": {},
   "outputs": [
    {
     "ename": "ModuleNotFoundError",
     "evalue": "No module named 'flask'",
     "output_type": "error",
     "traceback": [
      "\u001b[0;31m---------------------------------------------------------------------------\u001b[0m",
      "\u001b[0;31mModuleNotFoundError\u001b[0m                       Traceback (most recent call last)",
      "Cell \u001b[0;32mIn[4], line 1\u001b[0m\n\u001b[0;32m----> 1\u001b[0m \u001b[38;5;28;01mfrom\u001b[39;00m \u001b[38;5;21;01mflask\u001b[39;00m \u001b[38;5;28;01mimport\u001b[39;00m Flask, jsonify\n\u001b[1;32m      3\u001b[0m app \u001b[38;5;241m=\u001b[39m Flask(\u001b[38;5;18m__name__\u001b[39m)\n\u001b[1;32m      5\u001b[0m \u001b[38;5;66;03m# Define a route that returns a JSON response\u001b[39;00m\n",
      "\u001b[0;31mModuleNotFoundError\u001b[0m: No module named 'flask'"
     ]
    }
   ],
   "source": [
    "from flask import Flask, jsonify\n",
    "\n",
    "app = Flask(__name__)\n",
    "\n",
    "# Define a route that returns a JSON response\n",
    "@app.route('/api/hello', methods=['GET'])\n",
    "def hello():\n",
    "    data = {'message': 'Hello, world!'}\n",
    "    return jsonify(data)\n",
    "\n",
    "if __name__ == '__main__':\n",
    "    app.run(debug=True)\n"
   ]
  },
  {
   "cell_type": "code",
   "execution_count": null,
   "id": "e44f81a4-dbca-4128-a245-6f6c89ca993a",
   "metadata": {},
   "outputs": [],
   "source": []
  }
 ],
 "metadata": {
  "kernelspec": {
   "display_name": "Python 3 (ipykernel)",
   "language": "python",
   "name": "python3"
  },
  "language_info": {
   "codemirror_mode": {
    "name": "ipython",
    "version": 3
   },
   "file_extension": ".py",
   "mimetype": "text/x-python",
   "name": "python",
   "nbconvert_exporter": "python",
   "pygments_lexer": "ipython3",
   "version": "3.10.8"
  }
 },
 "nbformat": 4,
 "nbformat_minor": 5
}
